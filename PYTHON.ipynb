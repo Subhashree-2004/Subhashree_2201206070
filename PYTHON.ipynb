{
  "nbformat": 4,
  "nbformat_minor": 0,
  "metadata": {
    "colab": {
      "provenance": [],
      "authorship_tag": "ABX9TyN1c2K6oSVtpNQ9Mil8Z+Qf",
      "include_colab_link": true
    },
    "kernelspec": {
      "name": "python3",
      "display_name": "Python 3"
    },
    "language_info": {
      "name": "python"
    }
  },
  "cells": [
    {
      "cell_type": "markdown",
      "metadata": {
        "id": "view-in-github",
        "colab_type": "text"
      },
      "source": [
        "<a href=\"https://colab.research.google.com/github/Subhashree-2004/Subhashree_2201206070/blob/main/PYTHON.ipynb\" target=\"_parent\"><img src=\"https://colab.research.google.com/assets/colab-badge.svg\" alt=\"Open In Colab\"/></a>"
      ]
    },
    {
      "cell_type": "code",
      "execution_count": null,
      "metadata": {
        "colab": {
          "base_uri": "https://localhost:8080/"
        },
        "id": "GhfkH0pwmubo",
        "outputId": "793183ab-40c4-4f4a-8a2c-58e58461d4d7"
      },
      "outputs": [
        {
          "output_type": "stream",
          "name": "stdout",
          "text": [
            "wELCOME TO PYTHON PROGRAMMING\n"
          ]
        }
      ],
      "source": [
        "print('wELCOME TO PYTHON PROGRAMMING')"
      ]
    },
    {
      "cell_type": "code",
      "source": [
        "print('Hello!!!',end='')\n",
        "print(\"CSE\")"
      ],
      "metadata": {
        "colab": {
          "base_uri": "https://localhost:8080/"
        },
        "id": "I6A4McAKtRmR",
        "outputId": "b7cae125-dc00-4496-b660-ad0cc1aeb8cf"
      },
      "execution_count": null,
      "outputs": [
        {
          "output_type": "stream",
          "name": "stdout",
          "text": [
            "Hello!!!CSE\n"
          ]
        }
      ]
    },
    {
      "cell_type": "code",
      "source": [
        "a=10\n",
        "print(\"a=\",a)"
      ],
      "metadata": {
        "colab": {
          "base_uri": "https://localhost:8080/"
        },
        "id": "w8gi53paxVMa",
        "outputId": "ef78923f-7f0e-4240-f9bd-58da2e5650ca"
      },
      "execution_count": null,
      "outputs": [
        {
          "output_type": "stream",
          "name": "stdout",
          "text": [
            "a= 10\n"
          ]
        }
      ]
    },
    {
      "cell_type": "code",
      "source": [
        "n=input('enter your name')\n",
        "print('myself',n)"
      ],
      "metadata": {
        "colab": {
          "base_uri": "https://localhost:8080/"
        },
        "id": "wJ_tBY9Rzf0w",
        "outputId": "d2deaefb-2c21-4040-d4e2-f8e28fe9bf54"
      },
      "execution_count": null,
      "outputs": [
        {
          "output_type": "stream",
          "name": "stdout",
          "text": [
            "enter your name shree\n",
            "myself  shree\n"
          ]
        }
      ]
    },
    {
      "cell_type": "code",
      "source": [
        "a=int(input('Enter 1st no'))\n",
        "b=int(input('Enter 2nd no'))\n",
        "c=a+b\n",
        "print('a+b=',c)"
      ],
      "metadata": {
        "colab": {
          "base_uri": "https://localhost:8080/"
        },
        "id": "IHdeXIAw3xBg",
        "outputId": "190ce545-956b-4d5e-81cf-fb8c627d0fab"
      },
      "execution_count": null,
      "outputs": [
        {
          "output_type": "stream",
          "name": "stdout",
          "text": [
            "Enter 1st no21\n",
            "Enter 2nd no12\n",
            "a+b= 33\n"
          ]
        }
      ]
    },
    {
      "cell_type": "code",
      "source": [
        "a=input('Enter 1st no')\n",
        "b=input('Enter 2nd no')\n",
        "c=a+b\n",
        "print('a+b=',c)"
      ],
      "metadata": {
        "colab": {
          "base_uri": "https://localhost:8080/"
        },
        "id": "S-oAyehdzAD5",
        "outputId": "37f9c3f4-1910-4f49-c901-4662c04de977"
      },
      "execution_count": null,
      "outputs": [
        {
          "output_type": "stream",
          "name": "stdout",
          "text": [
            "Enter 1st no22\n",
            "Enter 2nd no11\n",
            "a+b= 2211\n"
          ]
        }
      ]
    },
    {
      "cell_type": "code",
      "source": [
        "a=100\n",
        "b=10.55\n",
        "c='ABIT'\n",
        "d=True\n",
        "print('Type of a=',type(a))\n",
        "print('Type of b=',type(b))\n",
        "print('Type of c=',type(c))\n",
        "print('Type of d=',type(d))"
      ],
      "metadata": {
        "colab": {
          "base_uri": "https://localhost:8080/"
        },
        "id": "TAN8duj35Uiw",
        "outputId": "ce9ebb7e-15f3-4af6-9421-299c565ab47a"
      },
      "execution_count": null,
      "outputs": [
        {
          "output_type": "stream",
          "name": "stdout",
          "text": [
            "Type of a= <class 'int'>\n",
            "Type of b= <class 'float'>\n",
            "Type of c= <class 'str'>\n",
            "Type of d= <class 'bool'>\n"
          ]
        }
      ]
    },
    {
      "cell_type": "code",
      "source": [
        "#Complex Number\n",
        "a=12+15j\n",
        "print('a=',a)\n",
        "print(a.real)\n",
        "print(a.imag)"
      ],
      "metadata": {
        "colab": {
          "base_uri": "https://localhost:8080/"
        },
        "id": "I9xwChFD7TwX",
        "outputId": "2751836e-8edc-465c-ce3b-59f79165ba13"
      },
      "execution_count": null,
      "outputs": [
        {
          "output_type": "stream",
          "name": "stdout",
          "text": [
            "a= (12+15j)\n",
            "12.0\n",
            "15.0\n"
          ]
        }
      ]
    },
    {
      "cell_type": "code",
      "source": [
        "a=0b111\n",
        "print('a=',a)\n",
        "b=0xaa\n",
        "print('b=',b)"
      ],
      "metadata": {
        "colab": {
          "base_uri": "https://localhost:8080/"
        },
        "id": "DimhmlMc8HGt",
        "outputId": "894cb4cf-eb8d-4faf-ac62-510abe9fd433"
      },
      "execution_count": null,
      "outputs": [
        {
          "output_type": "stream",
          "name": "stdout",
          "text": [
            "a= 7\n",
            "b= 170\n"
          ]
        }
      ]
    },
    {
      "cell_type": "code",
      "source": [
        "a=2\n",
        "b=3\n",
        "c=a+b\n",
        "print('a+b',c)\n",
        "d=a-b\n",
        "print('a-b',d)\n",
        "e=a*b\n",
        "print('a*b',e)\n",
        "f=a/b\n",
        "print('a/b',f)\n",
        "g=a**b\n",
        "print('a**b',g)\n",
        "h=a//b\n",
        "print('a//b',h)"
      ],
      "metadata": {
        "colab": {
          "base_uri": "https://localhost:8080/"
        },
        "id": "HfN5-ocyqghi",
        "outputId": "f0a63e65-c854-4290-9b65-83354eb53baf"
      },
      "execution_count": null,
      "outputs": [
        {
          "output_type": "stream",
          "name": "stdout",
          "text": [
            "a+b 5\n",
            "a-b -1\n",
            "a*b 6\n",
            "a/b 0.6666666666666666\n",
            "a**b 8\n",
            "a//b 0\n"
          ]
        }
      ]
    },
    {
      "cell_type": "code",
      "source": [
        "a=8\n",
        "b=5\n",
        "c=a!=b\n",
        "print('a!=b',c)\n",
        "d=a==b\n",
        "print('a==b',d)\n",
        "e=a<<b\n",
        "print('a<<b',e)\n",
        "f=a>>b\n",
        "print('a>>b',f)\n",
        "g=a&b\n",
        "print('a&b',g)\n",
        "h=a++b\n",
        "print('a++b',h)\n",
        "i=a--b\n",
        "print('a--b',i)"
      ],
      "metadata": {
        "colab": {
          "base_uri": "https://localhost:8080/"
        },
        "id": "KQrlMIYTsiND",
        "outputId": "478ce65b-4d2b-437f-babd-bdbb2c754eff"
      },
      "execution_count": null,
      "outputs": [
        {
          "output_type": "stream",
          "name": "stdout",
          "text": [
            "a!=b True\n",
            "a==b False\n",
            "a<<b 256\n",
            "a>>b 0\n",
            "a&b 0\n",
            "a++b 13\n",
            "a--b 13\n"
          ]
        }
      ]
    },
    {
      "cell_type": "code",
      "source": [
        "a=5\n",
        "b=8\n",
        "d=a is b\n",
        "print('a is b',d)\n",
        "d=a is not b\n",
        "print('a is not b',d)"
      ],
      "metadata": {
        "colab": {
          "base_uri": "https://localhost:8080/"
        },
        "id": "6oAojQX2v3lJ",
        "outputId": "ac22972d-ac01-4fec-d8bf-ba4714ffd881"
      },
      "execution_count": null,
      "outputs": [
        {
          "output_type": "stream",
          "name": "stdout",
          "text": [
            "a is b False\n",
            "a is not b True\n"
          ]
        }
      ]
    },
    {
      "cell_type": "code",
      "source": [
        "# in operator\n",
        "a=\"Hello!!\"\n",
        "b='l'\n",
        "c=b in a\n",
        "print('b in a',d)\n",
        "d=b not in a\n",
        "print('b not in a',d)"
      ],
      "metadata": {
        "colab": {
          "base_uri": "https://localhost:8080/"
        },
        "id": "5D-9M5p7xLri",
        "outputId": "309e508b-b6f2-46a2-daeb-744d0516e52e"
      },
      "execution_count": null,
      "outputs": [
        {
          "output_type": "stream",
          "name": "stdout",
          "text": [
            "b in a True\n",
            "b not in a False\n"
          ]
        }
      ]
    },
    {
      "cell_type": "code",
      "source": [
        "# intput a no and check even.\n",
        "a=int(input('Enter a number'))\n",
        "if a%2==0:\n",
        "  print('Even no')\n",
        "else:\n",
        " print('Odd no')"
      ],
      "metadata": {
        "colab": {
          "base_uri": "https://localhost:8080/"
        },
        "id": "0lZgToifzUbh",
        "outputId": "f065b837-3498-4ee3-f673-6b88066f54e1"
      },
      "execution_count": null,
      "outputs": [
        {
          "output_type": "stream",
          "name": "stdout",
          "text": [
            "Enter a number45\n",
            "Odd no\n"
          ]
        }
      ]
    },
    {
      "cell_type": "code",
      "source": [
        "a=int(input('Enter 1st no'))\n",
        "b=int(input('Enter 2nd no'))\n",
        "if a>=b:\n",
        " print('a is maximum')\n",
        " print('b is minimum')\n",
        "else:\n",
        "   print('a is minimum')\n",
        "   print('b is maximum')"
      ],
      "metadata": {
        "colab": {
          "base_uri": "https://localhost:8080/"
        },
        "id": "NvzQgRPk012r",
        "outputId": "8db66fb3-7e74-4b48-8945-d8c09c85d6d7"
      },
      "execution_count": null,
      "outputs": [
        {
          "output_type": "stream",
          "name": "stdout",
          "text": [
            "Enter 1st no12\n",
            "Enter 2nd no20\n",
            "a is minimum\n",
            "b is maximum\n"
          ]
        }
      ]
    },
    {
      "cell_type": "code",
      "source": [
        "num=int(input(\"Enter the no\"))\n",
        "if num==10:\n",
        "  print('Num is equal to 10')\n",
        "elif num==50:\n",
        "  print('Num is equal to 50')\n",
        "else:\n",
        "  print('Wrong no')"
      ],
      "metadata": {
        "colab": {
          "base_uri": "https://localhost:8080/"
        },
        "id": "D9Yul8PG4JHG",
        "outputId": "8f3bc4bf-0ad7-4cc6-9f3a-91819785e06d"
      },
      "execution_count": null,
      "outputs": [
        {
          "output_type": "stream",
          "name": "stdout",
          "text": [
            "Enter the no10\n",
            "Num is equal to 10\n"
          ]
        }
      ]
    },
    {
      "cell_type": "code",
      "source": [
        "str=\"PYTHON\"\n",
        "for i in str:\n",
        "  print(i)"
      ],
      "metadata": {
        "colab": {
          "base_uri": "https://localhost:8080/"
        },
        "id": "9lUOnml25G8A",
        "outputId": "a59687df-c371-4371-a210-9378a1b25e54"
      },
      "execution_count": null,
      "outputs": [
        {
          "output_type": "stream",
          "name": "stdout",
          "text": [
            "P\n",
            "Y\n",
            "T\n",
            "H\n",
            "O\n",
            "N\n"
          ]
        }
      ]
    },
    {
      "cell_type": "code",
      "source": [
        "for i in range(1,11):\n",
        "  print(i,end='')\n"
      ],
      "metadata": {
        "colab": {
          "base_uri": "https://localhost:8080/"
        },
        "id": "53hHkLkH6SCq",
        "outputId": "35271894-26b8-4c14-f659-3b9ffcc2834c"
      },
      "execution_count": null,
      "outputs": [
        {
          "output_type": "stream",
          "name": "stdout",
          "text": [
            "12345678910"
          ]
        }
      ]
    },
    {
      "cell_type": "code",
      "source": [
        "n=int(input('Enter the no'))\n",
        "c=0\n",
        "for i in  range(1,n+1):\n",
        " if (n%2!=0):\n",
        "  c=c+1\n",
        "  print(i,end=',')\n",
        "print('no of odd',c)"
      ],
      "metadata": {
        "colab": {
          "base_uri": "https://localhost:8080/"
        },
        "id": "ijwlCV5c7eSr",
        "outputId": "f72503f6-46cf-4abf-cbab-f72cd9fd9003"
      },
      "execution_count": null,
      "outputs": [
        {
          "output_type": "stream",
          "name": "stdout",
          "text": [
            "Enter the no15\n",
            "1,2,3,4,5,6,7,8,9,10,11,12,13,14,15,no of odd 15\n"
          ]
        }
      ]
    },
    {
      "cell_type": "code",
      "source": [
        "#while loop\n",
        "n=1\n",
        "while n<=10:\n",
        " print(n)\n",
        " n=n+1"
      ],
      "metadata": {
        "colab": {
          "base_uri": "https://localhost:8080/"
        },
        "id": "y7mAF6Jx-qc7",
        "outputId": "497162c3-e5d4-4e60-8bf9-c889a9686385"
      },
      "execution_count": null,
      "outputs": [
        {
          "output_type": "stream",
          "name": "stdout",
          "text": [
            "1\n",
            "2\n",
            "3\n",
            "4\n",
            "5\n",
            "6\n",
            "7\n",
            "8\n",
            "9\n",
            "10\n"
          ]
        }
      ]
    },
    {
      "cell_type": "code",
      "source": [
        "#while loop\n",
        "num=int(input('Enter the nos'))\n",
        "rev=0\n",
        "while num!=0:\n",
        "  d=num%10\n",
        "  rev=rev*10+d\n",
        "  num//=10\n",
        "  print('Reverse is'+str(rev))\n"
      ],
      "metadata": {
        "colab": {
          "base_uri": "https://localhost:8080/"
        },
        "id": "sPZtlD4C_FLM",
        "outputId": "6d8e9aa5-03c1-482b-896f-4b35920e2e01"
      },
      "execution_count": null,
      "outputs": [
        {
          "output_type": "stream",
          "name": "stdout",
          "text": [
            "Enter the nos 765893\n",
            "Reverse is3\n",
            "Reverse is39\n",
            "Reverse is398\n",
            "Reverse is3985\n",
            "Reverse is39856\n",
            "Reverse is398567\n"
          ]
        }
      ]
    },
    {
      "cell_type": "code",
      "source": [
        "rows=6\n",
        "for i in range(rows):\n",
        "  for j in range(i):\n",
        "    print(i,end='')\n",
        "  print('')"
      ],
      "metadata": {
        "colab": {
          "base_uri": "https://localhost:8080/"
        },
        "id": "EWmSeqzuEX5j",
        "outputId": "8d8a594c-56ae-48c4-9f04-6a7ab6e23e3a"
      },
      "execution_count": null,
      "outputs": [
        {
          "output_type": "stream",
          "name": "stdout",
          "text": [
            "\n",
            "1\n",
            "22\n",
            "333\n",
            "4444\n",
            "55555\n"
          ]
        }
      ]
    },
    {
      "cell_type": "code",
      "source": [
        "rows=6\n",
        "b=0\n",
        "for i in range(rows,0,-1):\n",
        "  b += 1\n",
        "  for j in range(1,i,+1):\n",
        "    print(b,end='')\n",
        "  print('\\r')"
      ],
      "metadata": {
        "colab": {
          "base_uri": "https://localhost:8080/"
        },
        "id": "iDM2pIxkHADF",
        "outputId": "73850ba5-4b0f-4c0d-af7d-90edf026d5a4"
      },
      "execution_count": null,
      "outputs": [
        {
          "output_type": "stream",
          "name": "stdout",
          "text": [
            "11111\r\n",
            "2222\r\n",
            "333\r\n",
            "44\r\n",
            "5\r\n",
            "\r\n"
          ]
        }
      ]
    },
    {
      "cell_type": "code",
      "source": [
        "n=5\n",
        "for i in range(n,0,-1):\n",
        "  b=i\n",
        "  for j in range(0,i):\n",
        "    print(b,end='')\n",
        "  print('\\r')"
      ],
      "metadata": {
        "colab": {
          "base_uri": "https://localhost:8080/"
        },
        "id": "--91GFKwLShO",
        "outputId": "aa3235d3-9fb6-496c-afd6-df775d550414"
      },
      "execution_count": null,
      "outputs": [
        {
          "output_type": "stream",
          "name": "stdout",
          "text": [
            "55555\r\n",
            "4444\r\n",
            "333\r\n",
            "22\r\n",
            "1\r\n"
          ]
        }
      ]
    },
    {
      "cell_type": "code",
      "source": [
        "for i in range(5,0,-1):\n",
        "  for j in range(i,6):\n",
        "    print(i,end='')\n",
        "  print('')"
      ],
      "metadata": {
        "colab": {
          "base_uri": "https://localhost:8080/"
        },
        "id": "6D5WHy1JNLMi",
        "outputId": "9c3da0f8-fd5a-4af5-a6fd-fc2ca45f32b8"
      },
      "execution_count": null,
      "outputs": [
        {
          "output_type": "stream",
          "name": "stdout",
          "text": [
            "5\n",
            "44\n",
            "333\n",
            "2222\n",
            "11111\n"
          ]
        }
      ]
    },
    {
      "cell_type": "code",
      "source": [
        "rows=6\n",
        "for i in range(rows,0,-1):\n",
        "  for j in range(0,i+1):\n",
        "    print(j,end='')\n",
        "  print('')"
      ],
      "metadata": {
        "colab": {
          "base_uri": "https://localhost:8080/"
        },
        "id": "BrtaKySnOiri",
        "outputId": "972d7240-f550-400b-dd0d-d75411e6320f"
      },
      "execution_count": null,
      "outputs": [
        {
          "output_type": "stream",
          "name": "stdout",
          "text": [
            "0123456\n",
            "012345\n",
            "01234\n",
            "0123\n",
            "012\n",
            "01\n"
          ]
        }
      ]
    },
    {
      "cell_type": "code",
      "source": [
        "rows=5\n",
        "num=rows\n",
        "for i in range(rows,0,-1):\n",
        "  for j in range(0,i):\n",
        "    print(num,end='')\n",
        "  print('')"
      ],
      "metadata": {
        "colab": {
          "base_uri": "https://localhost:8080/"
        },
        "id": "3LmbwZVkPCnJ",
        "outputId": "a5ce87ba-404b-4ba4-dc16-35e9a66670cb"
      },
      "execution_count": null,
      "outputs": [
        {
          "output_type": "stream",
          "name": "stdout",
          "text": [
            "55555\n",
            "5555\n",
            "555\n",
            "55\n",
            "5\n"
          ]
        }
      ]
    },
    {
      "cell_type": "code",
      "source": [
        "rows=6\n",
        "for i in range(1,rows):\n",
        "  for j in range(i,0,-1):\n",
        "    print(j,end='')\n",
        "  print('')"
      ],
      "metadata": {
        "colab": {
          "base_uri": "https://localhost:8080/"
        },
        "id": "J1LftDy2PgF-",
        "outputId": "5411d7d4-b1cd-4bac-ca8c-93277e5ca40c"
      },
      "execution_count": null,
      "outputs": [
        {
          "output_type": "stream",
          "name": "stdout",
          "text": [
            "1\n",
            "21\n",
            "321\n",
            "4321\n",
            "54321\n"
          ]
        }
      ]
    },
    {
      "cell_type": "code",
      "source": [
        "rows=8\n",
        "for i in range(1,rows+1):\n",
        "  for j in range(1,i+1):\n",
        "    sq=i*j\n",
        "    print(i*j,end=\" \")\n",
        "  print('\\r')"
      ],
      "metadata": {
        "colab": {
          "base_uri": "https://localhost:8080/"
        },
        "id": "OCqx-OvIP06y",
        "outputId": "66656377-9571-4067-e09a-29c99befc66b"
      },
      "execution_count": null,
      "outputs": [
        {
          "output_type": "stream",
          "name": "stdout",
          "text": [
            "1 \r\n",
            "2 4 \r\n",
            "3 6 9 \r\n",
            "4 8 12 16 \r\n",
            "5 10 15 20 25 \r\n",
            "6 12 18 24 30 36 \r\n",
            "7 14 21 28 35 42 49 \r\n",
            "8 16 24 32 40 48 56 64 \r\n"
          ]
        }
      ]
    },
    {
      "cell_type": "code",
      "source": [
        "rows=70\n",
        "for i in range(65,rows):\n",
        "  for j in range(65,i+1):\n",
        "    print(chr(i),end=\" \")\n",
        "  print(\" \")"
      ],
      "metadata": {
        "colab": {
          "base_uri": "https://localhost:8080/"
        },
        "id": "0rsiUmiVQ5ZX",
        "outputId": "3e372c84-f205-4353-8221-db593ad709c9"
      },
      "execution_count": null,
      "outputs": [
        {
          "output_type": "stream",
          "name": "stdout",
          "text": [
            "A  \n",
            "B B  \n",
            "C C C  \n",
            "D D D D  \n",
            "E E E E E  \n"
          ]
        }
      ]
    },
    {
      "cell_type": "code",
      "source": [
        "rows=6\n",
        "for i in range(1,6):\n",
        "  print(str(i)*(i))\n",
        "\n",
        "for i in range(4,0,-1):\n",
        "  print(str(i)*(i))"
      ],
      "metadata": {
        "colab": {
          "base_uri": "https://localhost:8080/"
        },
        "id": "RHQXXSDNV1SD",
        "outputId": "2c94c31f-6182-49d3-8ffa-d48e409702fe"
      },
      "execution_count": null,
      "outputs": [
        {
          "output_type": "stream",
          "name": "stdout",
          "text": [
            "1\n",
            "22\n",
            "333\n",
            "4444\n",
            "55555\n",
            "4444\n",
            "333\n",
            "22\n",
            "1\n"
          ]
        }
      ]
    },
    {
      "cell_type": "code",
      "source": [
        "for i in range(5,0,-1):\n",
        "  print(str(i)*(i))\n",
        "for i in range(1,6):\n",
        "  print(str(i)*(i))"
      ],
      "metadata": {
        "colab": {
          "base_uri": "https://localhost:8080/"
        },
        "id": "F5Sa6fJuW--3",
        "outputId": "79df3a5f-31d6-4948-c89c-2e808ad965b2"
      },
      "execution_count": null,
      "outputs": [
        {
          "output_type": "stream",
          "name": "stdout",
          "text": [
            "55555\n",
            "4444\n",
            "333\n",
            "22\n",
            "1\n",
            "1\n",
            "22\n",
            "333\n",
            "4444\n",
            "55555\n"
          ]
        }
      ]
    },
    {
      "cell_type": "code",
      "source": [
        "def pattern(n):\n",
        "  for i in range(1,n+1):\n",
        "    print(str(i)*(n-i+1))\n",
        "  for i in range(n-1,0,-1):\n",
        "   print(str(i)*(n-i+1))\n",
        "pattern(5)"
      ],
      "metadata": {
        "colab": {
          "base_uri": "https://localhost:8080/"
        },
        "id": "_Qc2q67DY92G",
        "outputId": "f8755bc6-6fe3-41b1-b232-19bb9db0b02c"
      },
      "execution_count": null,
      "outputs": [
        {
          "output_type": "stream",
          "name": "stdout",
          "text": [
            "11111\n",
            "2222\n",
            "333\n",
            "44\n",
            "5\n",
            "44\n",
            "333\n",
            "2222\n",
            "11111\n"
          ]
        }
      ]
    },
    {
      "cell_type": "code",
      "source": [
        "rows=6\n",
        "l=2*rows-2\n",
        "for i in range(0,rows):\n",
        "  for j in range(0,l):\n",
        "    print(end=\" \")\n",
        "  l=l-2\n",
        "  for j in range(0,i+1):\n",
        "    print(\"*\",end=\" \")\n",
        "  print(\"\")"
      ],
      "metadata": {
        "colab": {
          "base_uri": "https://localhost:8080/"
        },
        "id": "PJxzaTMygJCx",
        "outputId": "c0830a2d-fb5e-4455-a903-95f0358c1b8b"
      },
      "execution_count": null,
      "outputs": [
        {
          "output_type": "stream",
          "name": "stdout",
          "text": [
            "          * \n",
            "        * * \n",
            "      * * * \n",
            "    * * * * \n",
            "  * * * * * \n",
            "* * * * * * \n"
          ]
        }
      ]
    },
    {
      "cell_type": "code",
      "source": [
        "def right_align_pyramid(rows):\n",
        "  for i in range(1,rows+1):\n",
        "    print(\" \"*(rows-1)+\"#\"*(2*i-1))\n",
        "right_align_pyramid(5)"
      ],
      "metadata": {
        "colab": {
          "base_uri": "https://localhost:8080/"
        },
        "id": "AYdXFRv7mBsz",
        "outputId": "dd29510c-916c-4487-c1da-8a42d484c440"
      },
      "execution_count": null,
      "outputs": [
        {
          "output_type": "stream",
          "name": "stdout",
          "text": [
            "    #\n",
            "    ###\n",
            "    #####\n",
            "    #######\n",
            "    #########\n"
          ]
        }
      ]
    },
    {
      "cell_type": "code",
      "source": [
        "for var in \"ABIT\":\n",
        "  if var ==\"B\":\n",
        "    continue\n",
        "  print(var)"
      ],
      "metadata": {
        "colab": {
          "base_uri": "https://localhost:8080/"
        },
        "id": "IBSndAPcp1Xa",
        "outputId": "5c7b0e4b-b58d-4071-bcf0-a27806c11189"
      },
      "execution_count": null,
      "outputs": [
        {
          "output_type": "stream",
          "name": "stdout",
          "text": [
            "A\n",
            "I\n",
            "T\n"
          ]
        }
      ]
    },
    {
      "cell_type": "code",
      "source": [
        "for i in range(10):\n",
        "  print(i)\n",
        "  if i==2:\n",
        "    break"
      ],
      "metadata": {
        "colab": {
          "base_uri": "https://localhost:8080/"
        },
        "id": "qWxXFcY_scyT",
        "outputId": "13583135-64d4-460c-9f83-9cef7eecb4eb"
      },
      "execution_count": null,
      "outputs": [
        {
          "output_type": "stream",
          "name": "stdout",
          "text": [
            "0\n",
            "1\n",
            "2\n"
          ]
        }
      ]
    },
    {
      "cell_type": "code",
      "source": [
        "# abs()\n",
        "x=abs(-4.6)\n",
        "print(x)"
      ],
      "metadata": {
        "colab": {
          "base_uri": "https://localhost:8080/"
        },
        "id": "cJFqhzS_uTIL",
        "outputId": "5aa455bf-20df-43ef-94c4-9709d86de64e"
      },
      "execution_count": null,
      "outputs": [
        {
          "output_type": "stream",
          "name": "stdout",
          "text": [
            "4.6\n"
          ]
        }
      ]
    },
    {
      "cell_type": "code",
      "source": [
        "# all()\n",
        "list=[0,2,2]\n",
        "a=all(list)\n",
        "print(a)"
      ],
      "metadata": {
        "colab": {
          "base_uri": "https://localhost:8080/"
        },
        "id": "r6_IQil0vMOl",
        "outputId": "a34e23a6-a0fb-4322-eb2d-dda28ad08b82"
      },
      "execution_count": null,
      "outputs": [
        {
          "output_type": "stream",
          "name": "stdout",
          "text": [
            "False\n"
          ]
        }
      ]
    },
    {
      "cell_type": "code",
      "source": [
        "# any()\n",
        "tuple=[0,1,False]\n",
        "a=any(tuple)\n",
        "print(a)"
      ],
      "metadata": {
        "colab": {
          "base_uri": "https://localhost:8080/"
        },
        "id": "_yhEL1h_vhnn",
        "outputId": "04857036-1457-4f74-fd88-447c81a8d6af"
      },
      "execution_count": null,
      "outputs": [
        {
          "output_type": "stream",
          "name": "stdout",
          "text": [
            "True\n"
          ]
        }
      ]
    },
    {
      "cell_type": "code",
      "source": [
        "# ascii()\n",
        "a=ascii(\"Shree\")\n",
        "print(a)"
      ],
      "metadata": {
        "colab": {
          "base_uri": "https://localhost:8080/"
        },
        "id": "JmN_xmxrvzfD",
        "outputId": "298cf8c5-7186-4407-c26e-8cd060337ce0"
      },
      "execution_count": null,
      "outputs": [
        {
          "output_type": "stream",
          "name": "stdout",
          "text": [
            "'Shree'\n"
          ]
        }
      ]
    },
    {
      "cell_type": "code",
      "source": [
        "# bin()\n",
        "a=bin(30)\n",
        "print(a)"
      ],
      "metadata": {
        "colab": {
          "base_uri": "https://localhost:8080/"
        },
        "id": "H6j3Pi81wCfj",
        "outputId": "c031d1d6-bd91-421b-99aa-7e0e20cafb25"
      },
      "execution_count": null,
      "outputs": [
        {
          "output_type": "stream",
          "name": "stdout",
          "text": [
            "0b11110\n"
          ]
        }
      ]
    },
    {
      "cell_type": "code",
      "source": [
        "# b00l()\n",
        "a=bool(22)\n",
        "print(a)"
      ],
      "metadata": {
        "colab": {
          "base_uri": "https://localhost:8080/"
        },
        "id": "LSsb4ukrwMpo",
        "outputId": "c13634b0-edd9-420d-a6eb-a423c36a4f79"
      },
      "execution_count": null,
      "outputs": [
        {
          "output_type": "stream",
          "name": "stdout",
          "text": [
            "True\n"
          ]
        }
      ]
    },
    {
      "cell_type": "code",
      "source": [
        "# bytearray()\n",
        "a=bytearray(22)\n",
        "print(a)"
      ],
      "metadata": {
        "colab": {
          "base_uri": "https://localhost:8080/"
        },
        "id": "ENdtjbVIwXW4",
        "outputId": "2ddf1a6b-be3a-45ae-9c45-179649e0f570"
      },
      "execution_count": null,
      "outputs": [
        {
          "output_type": "stream",
          "name": "stdout",
          "text": [
            "bytearray(b'\\x00\\x00\\x00\\x00\\x00\\x00\\x00\\x00\\x00\\x00\\x00\\x00\\x00\\x00\\x00\\x00\\x00\\x00\\x00\\x00\\x00\\x00')\n"
          ]
        }
      ]
    },
    {
      "cell_type": "code",
      "source": [
        "# bytes()\n",
        "a=bytes(22)\n",
        "print(a)"
      ],
      "metadata": {
        "colab": {
          "base_uri": "https://localhost:8080/"
        },
        "id": "C-xuSgrDwmgC",
        "outputId": "9eb8e348-35d5-4688-e729-2e2d140486fe"
      },
      "execution_count": null,
      "outputs": [
        {
          "output_type": "stream",
          "name": "stdout",
          "text": [
            "b'\\x00\\x00\\x00\\x00\\x00\\x00\\x00\\x00\\x00\\x00\\x00\\x00\\x00\\x00\\x00\\x00\\x00\\x00\\x00\\x00\\x00\\x00'\n"
          ]
        }
      ]
    },
    {
      "cell_type": "code",
      "source": [
        "# callable()\n",
        "b=5\n",
        "print(callable(b))"
      ],
      "metadata": {
        "colab": {
          "base_uri": "https://localhost:8080/"
        },
        "id": "Ev-N_BLswuRF",
        "outputId": "58c7b6c0-d81c-42ea-e67f-bcd6d8c33b51"
      },
      "execution_count": null,
      "outputs": [
        {
          "output_type": "stream",
          "name": "stdout",
          "text": [
            "False\n"
          ]
        }
      ]
    },
    {
      "cell_type": "code",
      "source": [
        "# chr()\n",
        "a=chr(87)\n",
        "print(a)"
      ],
      "metadata": {
        "colab": {
          "base_uri": "https://localhost:8080/"
        },
        "id": "a5xHHiyXxJbL",
        "outputId": "b52996a6-a876-445c-e39b-44c29736ae06"
      },
      "execution_count": null,
      "outputs": [
        {
          "output_type": "stream",
          "name": "stdout",
          "text": [
            "W\n"
          ]
        }
      ]
    },
    {
      "cell_type": "code",
      "source": [
        "# complex()\n",
        "a=complex(2,7)\n",
        "print(a)"
      ],
      "metadata": {
        "colab": {
          "base_uri": "https://localhost:8080/"
        },
        "id": "JeCFu5yIxTQ2",
        "outputId": "5d83361d-8f4b-4d30-c1c0-de07c6282c8e"
      },
      "execution_count": null,
      "outputs": [
        {
          "output_type": "stream",
          "name": "stdout",
          "text": [
            "(2+7j)\n"
          ]
        }
      ]
    },
    {
      "cell_type": "code",
      "source": [
        "# compile()\n",
        "a=compile('print(45)','test','eval')\n",
        "exec(a)"
      ],
      "metadata": {
        "colab": {
          "base_uri": "https://localhost:8080/"
        },
        "id": "1XceLoqzxc1k",
        "outputId": "38b38420-62a4-4c42-8be0-bc656c5a6ca8"
      },
      "execution_count": null,
      "outputs": [
        {
          "output_type": "stream",
          "name": "stdout",
          "text": [
            "45\n"
          ]
        }
      ]
    },
    {
      "cell_type": "code",
      "source": [
        "# delattr()\n",
        "class user:\n",
        "name=\"Subhu\"\n",
        "mob=845689999\n",
        "country=\"India\"\n",
        "delattr( person,\"age\")"
      ],
      "metadata": {
        "colab": {
          "base_uri": "https://localhost:8080/",
          "height": 106
        },
        "id": "p2HrhfkVx51s",
        "outputId": "707bd2e3-8c7d-4dcf-d735-05845eeb002b"
      },
      "execution_count": null,
      "outputs": [
        {
          "output_type": "error",
          "ename": "SyntaxError",
          "evalue": "invalid syntax (<ipython-input-24-bb0aaa453f9e>, line 5)",
          "traceback": [
            "\u001b[0;36m  File \u001b[0;32m\"<ipython-input-24-bb0aaa453f9e>\"\u001b[0;36m, line \u001b[0;32m5\u001b[0m\n\u001b[0;31m    country=\"India\"delattr(Person,'age')\u001b[0m\n\u001b[0m                   ^\u001b[0m\n\u001b[0;31mSyntaxError\u001b[0m\u001b[0;31m:\u001b[0m invalid syntax\n"
          ]
        }
      ]
    },
    {
      "cell_type": "code",
      "source": [
        "# user defined function\n",
        "def show():\n",
        " print(\"Shree\")\n",
        "show()"
      ],
      "metadata": {
        "colab": {
          "base_uri": "https://localhost:8080/"
        },
        "id": "VpyXaqSwzWtK",
        "outputId": "98024ff9-de25-4852-a244-4ffe1a96b991"
      },
      "execution_count": null,
      "outputs": [
        {
          "output_type": "stream",
          "name": "stdout",
          "text": [
            "Shree\n"
          ]
        }
      ]
    },
    {
      "cell_type": "code",
      "source": [
        "# passing parameters in user defind function\n",
        "def ADD(a,b):\n",
        "  c=a+b\n",
        "  print('Sum of two nos',c)\n",
        "ADD(10,20)\n"
      ],
      "metadata": {
        "colab": {
          "base_uri": "https://localhost:8080/"
        },
        "id": "mtNSyCKsz3ea",
        "outputId": "65f35ccf-cba3-46c2-a5b6-905b77ee4b3c"
      },
      "execution_count": null,
      "outputs": [
        {
          "output_type": "stream",
          "name": "stdout",
          "text": [
            "Sum of two nos 30\n"
          ]
        }
      ]
    },
    {
      "cell_type": "code",
      "source": [
        "# passing parameters in user defind function using keyboard\n",
        "def ADD(a,b):\n",
        "  c=a+b\n",
        "  print('Sum of two nos',c)\n",
        "p=int(input('Enter first no'))\n",
        "q=int(input('Enter second no'))\n",
        "ADD(p,q)\n"
      ],
      "metadata": {
        "colab": {
          "base_uri": "https://localhost:8080/"
        },
        "id": "3TfL_dQW0azH",
        "outputId": "7d0bbd1a-d43f-4606-de67-d35234eb7a23"
      },
      "execution_count": null,
      "outputs": [
        {
          "output_type": "stream",
          "name": "stdout",
          "text": [
            "Enter first no20\n",
            "Enter second no10\n",
            "Sum of two nos 30\n"
          ]
        }
      ]
    },
    {
      "cell_type": "code",
      "source": [
        "# using return statement in user defind function\n",
        "def sumofn(n):\n",
        "  s=0\n",
        "  for i in range(1,n+1):\n",
        "    s=s+i\n",
        "  return(s)\n",
        "m=int(input('Enter n:'))\n",
        "print('Sum of n=',sumofn(m))"
      ],
      "metadata": {
        "colab": {
          "base_uri": "https://localhost:8080/"
        },
        "id": "0ZfnD8xx1aWX",
        "outputId": "03c792ba-ce77-4941-f6aa-ea73db1dc01d"
      },
      "execution_count": null,
      "outputs": [
        {
          "output_type": "stream",
          "name": "stdout",
          "text": [
            "Enter n:15\n",
            "Sum of n= 120\n"
          ]
        }
      ]
    },
    {
      "cell_type": "code",
      "source": [],
      "metadata": {
        "colab": {
          "base_uri": "https://localhost:8080/"
        },
        "id": "gMp1ce1d3Wuz",
        "outputId": "0922507a-93cd-4055-dbb2-352281df03a8"
      },
      "execution_count": null,
      "outputs": [
        {
          "output_type": "stream",
          "name": "stdout",
          "text": [
            "\r\n",
            "1 \r\n",
            "2 2 \r\n",
            "3 3 3 \r\n",
            "4 4 4 4 \r\n"
          ]
        }
      ]
    },
    {
      "cell_type": "code",
      "source": [
        "p=int(input('Enter the no'))\n",
        "c=1\n",
        "for i in range(p+1):\n",
        "  for j in range (1,i+1):\n",
        "     print(c,end=\" \")\n",
        "     c=c+1\n",
        "  print()"
      ],
      "metadata": {
        "colab": {
          "base_uri": "https://localhost:8080/"
        },
        "id": "S_M73XN14fKc",
        "outputId": "ad272607-fd72-46ba-c7ee-276a7b66028e"
      },
      "execution_count": null,
      "outputs": [
        {
          "output_type": "stream",
          "name": "stdout",
          "text": [
            "Enter the no 5\n",
            "\n",
            "1 \n",
            "2 3 \n",
            "4 5 6 \n",
            "7 8 9 10 \n",
            "11 12 13 14 15 \n"
          ]
        }
      ]
    },
    {
      "cell_type": "code",
      "source": [
        "list=['P','Y','T','H','O','N']\n",
        "print(list)"
      ],
      "metadata": {
        "colab": {
          "base_uri": "https://localhost:8080/"
        },
        "id": "ReYm2ko7_zsz",
        "outputId": "c79692a6-1318-4946-cac4-e68a26367725"
      },
      "execution_count": null,
      "outputs": [
        {
          "output_type": "stream",
          "name": "stdout",
          "text": [
            "['P', 'Y', 'T', 'H', 'O', 'N']\n"
          ]
        }
      ]
    },
    {
      "cell_type": "code",
      "source": [
        "list=[10,20,30,40,50,60,70,80,90]\n",
        "print(list[2:6])"
      ],
      "metadata": {
        "colab": {
          "base_uri": "https://localhost:8080/"
        },
        "id": "39-ybwMQAxaF",
        "outputId": "33ecc7e7-bfe0-4494-f9ae-2385aeec1be1"
      },
      "execution_count": null,
      "outputs": [
        {
          "output_type": "stream",
          "name": "stdout",
          "text": [
            "[30, 40, 50, 60]\n"
          ]
        }
      ]
    },
    {
      "cell_type": "code",
      "source": [
        "list=[10,20,30,40,50,60,70,80,90]\n",
        "print(list[:4])"
      ],
      "metadata": {
        "colab": {
          "base_uri": "https://localhost:8080/"
        },
        "id": "DePUSWY3BJXK",
        "outputId": "5b9c0450-ab69-40c1-a5ea-33ab780de098"
      },
      "execution_count": null,
      "outputs": [
        {
          "output_type": "stream",
          "name": "stdout",
          "text": [
            "[10, 20, 30, 40]\n"
          ]
        }
      ]
    },
    {
      "cell_type": "code",
      "source": [
        "list=[10,20,30,40,50,60,70,80,90]\n",
        "print(list[4:])"
      ],
      "metadata": {
        "colab": {
          "base_uri": "https://localhost:8080/"
        },
        "id": "rvCVIacpBoi1",
        "outputId": "7713abae-79e5-4768-f026-870d417f3e53"
      },
      "execution_count": null,
      "outputs": [
        {
          "output_type": "stream",
          "name": "stdout",
          "text": [
            "[50, 60, 70, 80, 90]\n"
          ]
        }
      ]
    },
    {
      "cell_type": "code",
      "source": [
        "# all()\n",
        "list=[\"apple\",\"orange\",\"patato\",\"tamato\"]\n",
        "a=all(list)\n",
        "print(a)"
      ],
      "metadata": {
        "colab": {
          "base_uri": "https://localhost:8080/"
        },
        "id": "WofMBi08nCgX",
        "outputId": "4b8a2ec7-524e-4c4c-a41c-43438fe81d5d"
      },
      "execution_count": null,
      "outputs": [
        {
          "output_type": "stream",
          "name": "stdout",
          "text": [
            "True\n"
          ]
        }
      ]
    },
    {
      "cell_type": "code",
      "source": [
        "list=['Patato','Tomato','Apple','Orange']\n",
        "print(list)\n",
        "print(type(list))"
      ],
      "metadata": {
        "colab": {
          "base_uri": "https://localhost:8080/"
        },
        "id": "goQkk7ejnwjN",
        "outputId": "f38c84f3-8185-4463-aee8-59cf7347c83c"
      },
      "execution_count": null,
      "outputs": [
        {
          "output_type": "stream",
          "name": "stdout",
          "text": [
            "['Patato', 'Tomato', 'Apple', 'Orange']\n",
            "<class 'list'>\n"
          ]
        }
      ]
    },
    {
      "cell_type": "code",
      "source": [
        "list=['Patato','Tomato','Apple','Orange']\n",
        "print(list)\n",
        "print(len(list))"
      ],
      "metadata": {
        "colab": {
          "base_uri": "https://localhost:8080/"
        },
        "id": "_2I2eaXWoHiZ",
        "outputId": "48578a69-3db6-4d38-9e7b-8bcbc36322b7"
      },
      "execution_count": null,
      "outputs": [
        {
          "output_type": "stream",
          "name": "stdout",
          "text": [
            "['Patato', 'Tomato', 'Apple', 'Orange']\n",
            "4\n"
          ]
        }
      ]
    },
    {
      "cell_type": "code",
      "source": [
        "list=['100']\n",
        "list2=['10.55']\n",
        "list3=['ABIT']\n",
        "list4=['True']\n",
        "print('Type of 1=',type(list))\n",
        "print('Type of 2=',type(list2))\n",
        "print('Type of 3=',type(list3))\n",
        "print('Type of 4=',type(list4))"
      ],
      "metadata": {
        "colab": {
          "base_uri": "https://localhost:8080/"
        },
        "id": "_RD7gIhgrVEm",
        "outputId": "c1c5d223-43a5-4175-e31e-791b964e20df"
      },
      "execution_count": null,
      "outputs": [
        {
          "output_type": "stream",
          "name": "stdout",
          "text": [
            "Type of 1= <class 'list'>\n",
            "Type of 2= <class 'list'>\n",
            "Type of 3= <class 'list'>\n",
            "Type of 4= <class 'list'>\n"
          ]
        }
      ]
    },
    {
      "cell_type": "code",
      "source": [
        "list1=[\"subha\",\"shake\",\"bluri\"]\n",
        "list2=[1,2,3]\n",
        "list3=[True,False,True]\n",
        "list4=[123,\"payton sahi\",True]\n",
        "print(list1)\n",
        "print(list2)\n",
        "print(list3)\n",
        "print(list4)"
      ],
      "metadata": {
        "colab": {
          "base_uri": "https://localhost:8080/"
        },
        "id": "ZLDWW5lUsF8B",
        "outputId": "6ac64c1f-7287-49ca-824e-13d6bd6db087"
      },
      "execution_count": null,
      "outputs": [
        {
          "output_type": "stream",
          "name": "stdout",
          "text": [
            "['subha', 'shake', 'bluri']\n",
            "[1, 2, 3]\n",
            "[True, False, True]\n",
            "[123, 'payton sahi', True]\n"
          ]
        }
      ]
    },
    {
      "cell_type": "code",
      "source": [
        "list1=[\"subha\",\"shake\",\"bluri\"]\n",
        "list2=[1,2,3]\n",
        "list3=[True,False,True]\n",
        "list4=[123,\"payton sahi\",True]\n",
        "print(list1[2])\n",
        "print(list2[-2])\n",
        "print(list3[-1])\n",
        "print(list4[1])"
      ],
      "metadata": {
        "colab": {
          "base_uri": "https://localhost:8080/"
        },
        "id": "-WF2mXqTspid",
        "outputId": "09ba82f8-2d4b-464a-981c-c491cc58b3b4"
      },
      "execution_count": null,
      "outputs": [
        {
          "output_type": "stream",
          "name": "stdout",
          "text": [
            "bluri\n",
            "2\n",
            "True\n",
            "payton sahi\n"
          ]
        }
      ]
    },
    {
      "cell_type": "code",
      "source": [
        "list1=[\"subha\",\"shake\",\"lovely\"]\n",
        "list2=[1,2,3]\n",
        "list3=[True,False,True]\n",
        "list4=[123,\"payton sahi\",True]\n",
        "print(list1[2])\n",
        "print(list2[1:2])\n",
        "print(list3[1:3])\n",
        "print(list4[-1])"
      ],
      "metadata": {
        "colab": {
          "base_uri": "https://localhost:8080/"
        },
        "id": "-4HjbE5RucW6",
        "outputId": "7fc48673-0655-4b58-8a28-63f8d7e0e8ed"
      },
      "execution_count": null,
      "outputs": [
        {
          "output_type": "stream",
          "name": "stdout",
          "text": [
            "lovely\n",
            "[2]\n",
            "[False, True]\n",
            "True\n"
          ]
        }
      ]
    },
    {
      "cell_type": "code",
      "source": [
        "list1=[\"subha\",\"shake\",\"bluri\"]\n",
        "list2=[1,2,3]\n",
        "list3=[True,False,True]\n",
        "list4=[123,\"payton sahi\",True]\n",
        "if(\"subha\"==list1):\n",
        "  print(\"item in the list\")\n",
        "else:\n",
        "  print(\"item doesn't in the list\")"
      ],
      "metadata": {
        "colab": {
          "base_uri": "https://localhost:8080/"
        },
        "id": "4JFWQmfL1_Ak",
        "outputId": "62aa2284-da5a-4f0f-8c58-3633613b616c"
      },
      "execution_count": null,
      "outputs": [
        {
          "output_type": "stream",
          "name": "stdout",
          "text": [
            "item doesn't in the list\n"
          ]
        }
      ]
    },
    {
      "cell_type": "code",
      "source": [
        "list=['s','h','r','e','e']\n",
        "list[2]='subha'\n",
        "list1=['Rout']\n",
        "list.insert(3,\"shree\")\n",
        "list.append('su')\n",
        "list.extend(list1)\n",
        "list.remove('shree')\n",
        "list.pop(2)\n",
        "list.pop()\n",
        "del list[3]\n",
        "list.clear()\n",
        "print(list)"
      ],
      "metadata": {
        "colab": {
          "base_uri": "https://localhost:8080/"
        },
        "id": "XWpjdDIe4DCC",
        "outputId": "abeca104-8a88-4f16-8817-ae25c13e6a74"
      },
      "execution_count": null,
      "outputs": [
        {
          "output_type": "stream",
          "name": "stdout",
          "text": [
            "[]\n"
          ]
        }
      ]
    },
    {
      "cell_type": "code",
      "source": [
        "list=[1,2,3,4,5,6]\n",
        "for i in list:\n",
        "  print(i)"
      ],
      "metadata": {
        "colab": {
          "base_uri": "https://localhost:8080/"
        },
        "id": "Nt69Xecd_ffO",
        "outputId": "75549b2d-4c03-4f0a-fe42-7db5ebd81a33"
      },
      "execution_count": null,
      "outputs": [
        {
          "output_type": "stream",
          "name": "stdout",
          "text": [
            "1\n",
            "2\n",
            "3\n",
            "4\n",
            "5\n",
            "6\n"
          ]
        }
      ]
    },
    {
      "cell_type": "code",
      "source": [
        "list1=[1,2,3,4,5,6,7]\n",
        "i=1\n",
        "while(i<len(list1)):\n",
        "  print(list1[i])\n",
        "  i=i+1"
      ],
      "metadata": {
        "colab": {
          "base_uri": "https://localhost:8080/"
        },
        "id": "v0vzAJsqAu15",
        "outputId": "bc5090f3-01d9-44ee-bf6a-73fecc6b1406"
      },
      "execution_count": null,
      "outputs": [
        {
          "output_type": "stream",
          "name": "stdout",
          "text": [
            "2\n",
            "3\n",
            "4\n",
            "5\n",
            "6\n",
            "7\n"
          ]
        }
      ]
    },
    {
      "cell_type": "code",
      "source": [
        "def factorial(x):\n",
        "  if x==1:\n",
        "   return 1\n",
        "  else:\n",
        "   return(x*factorial(x-1))\n",
        "num=3\n",
        "print(\"The factorial of\",num,\"is\",factorial(num))\n"
      ],
      "metadata": {
        "colab": {
          "base_uri": "https://localhost:8080/"
        },
        "id": "jmXIRJZBu-eY",
        "outputId": "32b5dd3e-7af5-4243-d390-79e76bf3a932"
      },
      "execution_count": null,
      "outputs": [
        {
          "output_type": "stream",
          "name": "stdout",
          "text": [
            "The factorial of 3 is 6\n"
          ]
        }
      ]
    },
    {
      "cell_type": "code",
      "source": [
        "import math\n",
        "pie=math.pi\n",
        "print(\"The value of pie is\",pie)"
      ],
      "metadata": {
        "colab": {
          "base_uri": "https://localhost:8080/"
        },
        "id": "0RsueXTayMGS",
        "outputId": "de5fb1de-e6c4-47e6-9138-ec553a91498e"
      },
      "execution_count": null,
      "outputs": [
        {
          "output_type": "stream",
          "name": "stdout",
          "text": [
            "The value of pie is 3.141592653589793\n"
          ]
        }
      ]
    },
    {
      "cell_type": "code",
      "source": [
        "import random\n",
        "import math\n",
        "for i in range(5):\n",
        "  print(random.randint(1,25))\n",
        "print(math.pi)\n"
      ],
      "metadata": {
        "colab": {
          "base_uri": "https://localhost:8080/"
        },
        "id": "jAS5MmDLyMC5",
        "outputId": "f5ca675d-1c64-4821-d6f0-6294336a34d3"
      },
      "execution_count": null,
      "outputs": [
        {
          "output_type": "stream",
          "name": "stdout",
          "text": [
            "8\n",
            "11\n",
            "16\n",
            "22\n",
            "19\n",
            "3.141592653589793\n"
          ]
        }
      ]
    },
    {
      "cell_type": "code",
      "source": [
        "import math as m\n",
        "print(m.pi)\n",
        "print(m.e)"
      ],
      "metadata": {
        "colab": {
          "base_uri": "https://localhost:8080/"
        },
        "id": "H_qYe1374meX",
        "outputId": "bb106a12-9f91-426c-ff51-e5c0a6dc6a9d"
      },
      "execution_count": null,
      "outputs": [
        {
          "output_type": "stream",
          "name": "stdout",
          "text": [
            "3.141592653589793\n",
            "2.718281828459045\n"
          ]
        }
      ]
    },
    {
      "cell_type": "code",
      "source": [
        "from math import pow\n",
        "print(pow(2,5))"
      ],
      "metadata": {
        "colab": {
          "base_uri": "https://localhost:8080/"
        },
        "id": "gut_iy5i5FCT",
        "outputId": "846e9212-3e3f-47e1-9000-d8c997d0047b"
      },
      "execution_count": null,
      "outputs": [
        {
          "output_type": "stream",
          "name": "stdout",
          "text": [
            "32.0\n"
          ]
        }
      ]
    },
    {
      "cell_type": "code",
      "source": [
        "from random import randint\n",
        "for i in range(10):\n",
        "  print(randint(1,25))"
      ],
      "metadata": {
        "colab": {
          "base_uri": "https://localhost:8080/"
        },
        "id": "YYB23mPh5p7K",
        "outputId": "d46edc0d-17c2-4a68-9dab-3101b07acc60"
      },
      "execution_count": null,
      "outputs": [
        {
          "output_type": "stream",
          "name": "stdout",
          "text": [
            "20\n",
            "14\n",
            "4\n",
            "22\n",
            "13\n",
            "10\n",
            "24\n",
            "11\n",
            "20\n",
            "3\n"
          ]
        }
      ]
    },
    {
      "cell_type": "code",
      "source": [
        "list=['I','LOVE','PYTHON']\n",
        "list1=[1,2,3,4,5,6]\n",
        "list2=['PYTHON',29,5.6,'is','a','b']\n",
        "list,list1,list2"
      ],
      "metadata": {
        "colab": {
          "base_uri": "https://localhost:8080/"
        },
        "id": "s-bAIBrw670a",
        "outputId": "e506241d-3932-4ad2-cc3b-65fc8a80110b"
      },
      "execution_count": null,
      "outputs": [
        {
          "output_type": "execute_result",
          "data": {
            "text/plain": [
              "(['I', 'LOVE', 'PYTHON'],\n",
              " [1, 2, 3, 4, 5, 6],\n",
              " ['PYTHON', 29, 5.6, 'is', 'a', 'b'])"
            ]
          },
          "metadata": {},
          "execution_count": 19
        }
      ]
    },
    {
      "cell_type": "code",
      "source": [
        "list=[10,20,30,40,50,60,70,80,90]\n",
        "print(list[::])\n",
        "print(list[::2])\n",
        "print(list[1:3])\n",
        "print(list[2:7:2])\n",
        "print(list[-3:])\n",
        "print(list[-2:3])\n",
        "print(list[::-2])\n",
        "print(list[2:-4])"
      ],
      "metadata": {
        "colab": {
          "base_uri": "https://localhost:8080/"
        },
        "id": "PJC7x2U297yr",
        "outputId": "2827f0e6-0290-4685-de48-73d2b9a83258"
      },
      "execution_count": null,
      "outputs": [
        {
          "output_type": "stream",
          "name": "stdout",
          "text": [
            "[10, 20, 30, 40, 50, 60, 70, 80, 90]\n",
            "[10, 30, 50, 70, 90]\n",
            "[20, 30]\n",
            "[30, 50, 70]\n",
            "[70, 80, 90]\n",
            "[]\n",
            "[90, 70, 50, 30, 10]\n",
            "[30, 40, 50]\n"
          ]
        }
      ]
    },
    {
      "cell_type": "code",
      "source": [
        "list=[10,21,30,45,50,63,78,80,90]\n",
        "list[0]=1\n",
        "print(list)\n",
        "list[1:4]=[2,3,4]\n",
        "print(list)\n",
        "list[2]='Shree'\n",
        "print(list)\n",
        "list[3:5]='abc'\n",
        "print(list)"
      ],
      "metadata": {
        "colab": {
          "base_uri": "https://localhost:8080/"
        },
        "id": "ZyeI30qZ-RJ1",
        "outputId": "284de2dd-8f5f-4f0a-f3f0-565009a32b87"
      },
      "execution_count": null,
      "outputs": [
        {
          "output_type": "stream",
          "name": "stdout",
          "text": [
            "[1, 21, 30, 45, 50, 63, 78, 80, 90]\n",
            "[1, 2, 3, 4, 50, 63, 78, 80, 90]\n",
            "[1, 2, 'Shree', 4, 50, 63, 78, 80, 90]\n",
            "[1, 2, 'Shree', 'a', 'b', 'c', 63, 78, 80, 90]\n"
          ]
        }
      ]
    },
    {
      "cell_type": "code",
      "source": [
        "list=[10,20,40,50,60,70,80,90]\n",
        "del list[0]\n",
        "print(list)\n",
        "del list[1:4]\n",
        "print(list)\n",
        "del list[::2]\n",
        "print(list)"
      ],
      "metadata": {
        "colab": {
          "base_uri": "https://localhost:8080/"
        },
        "id": "nS42p5JKGQsS",
        "outputId": "82697c76-4992-48e2-d3ec-3c864f2b0263"
      },
      "execution_count": null,
      "outputs": [
        {
          "output_type": "stream",
          "name": "stdout",
          "text": [
            "[20, 40, 50, 60, 70, 80, 90]\n",
            "[20, 70, 80, 90]\n",
            "[70, 90]\n"
          ]
        }
      ]
    },
    {
      "cell_type": "code",
      "source": [
        "list=[1,2,3,4,5]\n",
        "print(list*4)"
      ],
      "metadata": {
        "colab": {
          "base_uri": "https://localhost:8080/"
        },
        "id": "X1covXcmJGGR",
        "outputId": "1040f8b4-ac59-4271-acac-26661a85ae77"
      },
      "execution_count": null,
      "outputs": [
        {
          "output_type": "stream",
          "name": "stdout",
          "text": [
            "[1, 2, 3, 4, 5, 1, 2, 3, 4, 5, 1, 2, 3, 4, 5, 1, 2, 3, 4, 5]\n"
          ]
        }
      ]
    },
    {
      "cell_type": "code",
      "source": [
        "list=[1,2,3,4]\n",
        "list1=[5,6,7,8]\n",
        "print(list+list1)"
      ],
      "metadata": {
        "colab": {
          "base_uri": "https://localhost:8080/"
        },
        "id": "uY8tuD9TJ1fk",
        "outputId": "9e91e803-3fef-4935-b848-dc2811577a74"
      },
      "execution_count": null,
      "outputs": [
        {
          "output_type": "stream",
          "name": "stdout",
          "text": [
            "[1, 2, 3, 4, 5, 6, 7, 8]\n"
          ]
        }
      ]
    },
    {
      "cell_type": "code",
      "source": [
        "list=[1,2,3,4]\n",
        "for i in list:\n",
        " print(i)"
      ],
      "metadata": {
        "colab": {
          "base_uri": "https://localhost:8080/"
        },
        "id": "A-QbX28_KIJ3",
        "outputId": "c67197d5-1c43-4206-b175-55c1a7ac5e62"
      },
      "execution_count": null,
      "outputs": [
        {
          "output_type": "stream",
          "name": "stdout",
          "text": [
            "1\n",
            "2\n",
            "3\n",
            "4\n"
          ]
        }
      ]
    },
    {
      "cell_type": "code",
      "source": [
        "def bubble_sort(arr):\n",
        "    n = len(arr)\n",
        "    for i in range(n):\n",
        "        for j in range(0, n-i-1):\n",
        "            if arr[j] > arr[j+1]:\n",
        "                arr[j], arr[j+1] = arr[j+1], arr[j]\n",
        "if __name__ == \"__main__\":\n",
        "    elements = input(\"Enter elements separated by space: \").split()\n",
        "    elements = [int(e) for e in elements]\n",
        "    bubble_sort(elements)\n",
        "    print(\"Sorted array:\", elements)"
      ],
      "metadata": {
        "colab": {
          "base_uri": "https://localhost:8080/"
        },
        "id": "KTrZlM3kxFiW",
        "outputId": "6cfa6bcd-c133-47d7-c830-04d489af0f19"
      },
      "execution_count": null,
      "outputs": [
        {
          "output_type": "stream",
          "name": "stdout",
          "text": [
            "Enter elements separated by space: 5 2 3 7 99 33 71 57\n",
            "Sorted array: [2, 3, 5, 7, 33, 57, 71, 99]\n"
          ]
        }
      ]
    },
    {
      "cell_type": "code",
      "source": [
        "unsorted_list={5,2,3,7,99,33,71,57}\n",
        "sorted_list=sorted(unsorted_list)\n",
        "print(\"sorted_list\",sorted_list)"
      ],
      "metadata": {
        "colab": {
          "base_uri": "https://localhost:8080/"
        },
        "id": "_woHvZFgzT3R",
        "outputId": "5607f245-6383-4128-b768-76a6d3ec4b0a"
      },
      "execution_count": null,
      "outputs": [
        {
          "output_type": "stream",
          "name": "stdout",
          "text": [
            "sorted_list [2, 3, 5, 7, 33, 57, 71, 99]\n"
          ]
        }
      ]
    },
    {
      "cell_type": "code",
      "source": [
        "a=[5,2,4,1]\n",
        "for i in range(len(a)):\n",
        " for j in range(len(a)-1):\n",
        "  if a[j]>a[j+1]:\n",
        "    a[j+1],a[j]=a[j],a[j+1]\n",
        "\n",
        "print(a)"
      ],
      "metadata": {
        "colab": {
          "base_uri": "https://localhost:8080/"
        },
        "id": "xl28wStO14DT",
        "outputId": "8da386ca-9fd3-48d9-932e-5a194af0caf2"
      },
      "execution_count": null,
      "outputs": [
        {
          "output_type": "stream",
          "name": "stdout",
          "text": [
            "[1, 2, 4, 5]\n"
          ]
        }
      ]
    },
    {
      "cell_type": "code",
      "source": [
        "import numpy as np\n",
        "data2=[[1,2,3,4],[5,6,7,8]]\n",
        "arr2=np.array(data2)\n",
        "print(arr2.ndim)\n",
        "print(arr2.shape)"
      ],
      "metadata": {
        "id": "hGsLPX2x2sQw",
        "colab": {
          "base_uri": "https://localhost:8080/"
        },
        "outputId": "d55e073b-07c1-4743-c553-6b7cf04fec40"
      },
      "execution_count": null,
      "outputs": [
        {
          "output_type": "stream",
          "name": "stdout",
          "text": [
            "2\n",
            "(2, 4)\n"
          ]
        }
      ]
    },
    {
      "cell_type": "code",
      "source": [
        "import numpy as np\n",
        "data2=[[1,2,3,4],[5,6,7,8],[55,66,76,88]]\n",
        "arr2=np.array(data2)\n",
        "print(arr2.ndim)\n",
        "print(arr2.shape)\n",
        "print(arr2)"
      ],
      "metadata": {
        "colab": {
          "base_uri": "https://localhost:8080/"
        },
        "id": "u8j_TB-t7gcG",
        "outputId": "5f7eff9d-8611-4c76-a53f-662db4584672"
      },
      "execution_count": null,
      "outputs": [
        {
          "output_type": "stream",
          "name": "stdout",
          "text": [
            "2\n",
            "(3, 4)\n",
            "[[ 1  2  3  4]\n",
            " [ 5  6  7  8]\n",
            " [55 66 76 88]]\n"
          ]
        }
      ]
    },
    {
      "cell_type": "code",
      "source": [
        "import numpy as np\n",
        "data2=[[1,2,3,4]]\n",
        "arr2=np.array(data2)\n",
        "print(arr2.ndim)\n",
        "print(arr2.shape)\n",
        "print(arr2)"
      ],
      "metadata": {
        "colab": {
          "base_uri": "https://localhost:8080/"
        },
        "id": "h1yE7Ato8nvL",
        "outputId": "330975ec-8cc3-4d79-cfd2-503f4c00948f"
      },
      "execution_count": null,
      "outputs": [
        {
          "output_type": "stream",
          "name": "stdout",
          "text": [
            "2\n",
            "(1, 4)\n",
            "[[1 2 3 4]]\n"
          ]
        }
      ]
    },
    {
      "cell_type": "code",
      "source": [
        "a=np.array([[0,1,2],[2,3,4]])\n",
        "a"
      ],
      "metadata": {
        "colab": {
          "base_uri": "https://localhost:8080/"
        },
        "id": "8ZNzkitc8zk1",
        "outputId": "933eda53-6de0-4944-9a2b-7de7209cb3f0"
      },
      "execution_count": null,
      "outputs": [
        {
          "output_type": "execute_result",
          "data": {
            "text/plain": [
              "array([[0, 1, 2],\n",
              "       [2, 3, 4]])"
            ]
          },
          "metadata": {},
          "execution_count": 11
        }
      ]
    },
    {
      "cell_type": "code",
      "source": [
        "ar=np.zeros((4,4))\n",
        "ar"
      ],
      "metadata": {
        "colab": {
          "base_uri": "https://localhost:8080/"
        },
        "id": "0ngz7tPt9Z1Z",
        "outputId": "12c79730-8e8e-4182-d6b0-a70a487fe04c"
      },
      "execution_count": null,
      "outputs": [
        {
          "output_type": "execute_result",
          "data": {
            "text/plain": [
              "array([[0., 0., 0., 0.],\n",
              "       [0., 0., 0., 0.],\n",
              "       [0., 0., 0., 0.],\n",
              "       [0., 0., 0., 0.]])"
            ]
          },
          "metadata": {},
          "execution_count": 13
        }
      ]
    },
    {
      "cell_type": "code",
      "source": [
        "ar=np.ones((4,3))\n",
        "ar"
      ],
      "metadata": {
        "colab": {
          "base_uri": "https://localhost:8080/"
        },
        "id": "PiX59e4S98dM",
        "outputId": "9c45af07-1331-48bc-ee39-d22ff40f758a"
      },
      "execution_count": null,
      "outputs": [
        {
          "output_type": "execute_result",
          "data": {
            "text/plain": [
              "array([[1., 1., 1.],\n",
              "       [1., 1., 1.],\n",
              "       [1., 1., 1.],\n",
              "       [1., 1., 1.]])"
            ]
          },
          "metadata": {},
          "execution_count": 16
        }
      ]
    },
    {
      "cell_type": "code",
      "source": [
        "ar=np.eye(3)\n",
        "ar"
      ],
      "metadata": {
        "colab": {
          "base_uri": "https://localhost:8080/"
        },
        "id": "p9-vSvA8-Xm8",
        "outputId": "aff3edf4-e24b-4c42-e530-c3c39b62b68f"
      },
      "execution_count": null,
      "outputs": [
        {
          "output_type": "execute_result",
          "data": {
            "text/plain": [
              "array([[1., 0., 0.],\n",
              "       [0., 1., 0.],\n",
              "       [0., 0., 1.]])"
            ]
          },
          "metadata": {},
          "execution_count": 17
        }
      ]
    },
    {
      "cell_type": "code",
      "source": [
        "ar=np.arange(0,20,3)\n",
        "ar"
      ],
      "metadata": {
        "colab": {
          "base_uri": "https://localhost:8080/"
        },
        "id": "HFIeWlGc-sBu",
        "outputId": "71c779e7-600d-455d-f5d8-5656377ca7ca"
      },
      "execution_count": null,
      "outputs": [
        {
          "output_type": "execute_result",
          "data": {
            "text/plain": [
              "array([ 0,  3,  6,  9, 12, 15, 18])"
            ]
          },
          "metadata": {},
          "execution_count": 20
        }
      ]
    },
    {
      "cell_type": "code",
      "source": [
        "ar=np.random.randint(0,20,(4,2))\n",
        "ar"
      ],
      "metadata": {
        "colab": {
          "base_uri": "https://localhost:8080/"
        },
        "id": "4w1VDAiY_dCx",
        "outputId": "7ecae50c-25fc-411f-b842-e4ebdd749c85"
      },
      "execution_count": null,
      "outputs": [
        {
          "output_type": "execute_result",
          "data": {
            "text/plain": [
              "array([[ 6,  0],\n",
              "       [19, 17],\n",
              "       [11,  8],\n",
              "       [ 9, 18]])"
            ]
          },
          "metadata": {},
          "execution_count": 28
        }
      ]
    },
    {
      "cell_type": "code",
      "source": [
        "arr=np.array([[1.,2.,3.,],[4.,5.,6.,]])\n",
        "print(arr)\n",
        "\n",
        "print(arr*arr)\n",
        "\n",
        "print(arr-arr)"
      ],
      "metadata": {
        "colab": {
          "base_uri": "https://localhost:8080/"
        },
        "id": "5hvAxFHLAmMn",
        "outputId": "f7a67e17-d091-4dea-a45f-fdb4ec3fdcde"
      },
      "execution_count": null,
      "outputs": [
        {
          "output_type": "stream",
          "name": "stdout",
          "text": [
            "[[1. 2. 3.]\n",
            " [4. 5. 6.]]\n",
            "[[ 1.  4.  9.]\n",
            " [16. 25. 36.]]\n",
            "[[0. 0. 0.]\n",
            " [0. 0. 0.]]\n"
          ]
        }
      ]
    },
    {
      "cell_type": "code",
      "source": [
        "a=2\n",
        "arr=np.random.randint(0,20,(4,4))\n",
        "print(arr)\n",
        "\n",
        "\n",
        "print(arr*a)\n",
        "\n",
        "\n",
        "print((arr*a)-arr)"
      ],
      "metadata": {
        "colab": {
          "base_uri": "https://localhost:8080/"
        },
        "id": "m033TfeZBjRi",
        "outputId": "c32f5957-2026-4cad-93cc-bb51f0bbe79d"
      },
      "execution_count": null,
      "outputs": [
        {
          "output_type": "stream",
          "name": "stdout",
          "text": [
            "[[ 3 15  8  8]\n",
            " [ 3 12 15 17]\n",
            " [ 6  3  8  1]\n",
            " [ 5 14 17 13]]\n",
            "[[ 6 30 16 16]\n",
            " [ 6 24 30 34]\n",
            " [12  6 16  2]\n",
            " [10 28 34 26]]\n",
            "[[ 3 15  8  8]\n",
            " [ 3 12 15 17]\n",
            " [ 6  3  8  1]\n",
            " [ 5 14 17 13]]\n"
          ]
        }
      ]
    },
    {
      "cell_type": "code",
      "source": [
        "arr=np.array([[1,2,3],[4,5,6]])\n",
        "print(arr)\n",
        "print(arr**2)\n",
        "#Comparisons between arrays of the same size yield boolean arrays:\n",
        "arr2=np.array([[0,4,1],[7,2,12]])\n",
        "print(arr2)\n",
        "print(arr2>arr)"
      ],
      "metadata": {
        "colab": {
          "base_uri": "https://localhost:8080/"
        },
        "id": "gebEHXNUEyDW",
        "outputId": "1c2113a9-1f01-4516-a25d-6bdafc03d68f"
      },
      "execution_count": null,
      "outputs": [
        {
          "output_type": "stream",
          "name": "stdout",
          "text": [
            "[[1 2 3]\n",
            " [4 5 6]]\n",
            "[[ 1  4  9]\n",
            " [16 25 36]]\n",
            "[[ 0  4  1]\n",
            " [ 7  2 12]]\n",
            "[[False  True False]\n",
            " [ True False  True]]\n"
          ]
        }
      ]
    },
    {
      "cell_type": "code",
      "source": [
        "arr=np.random.randint(0,20,(3,3))\n",
        "arr=np.random.randint(0,20,(3,3))\n",
        "print(arr)\n",
        "\n",
        "print(arr2)\n",
        "\n",
        "print(arr>arr2)\n"
      ],
      "metadata": {
        "colab": {
          "base_uri": "https://localhost:8080/",
          "height": 263
        },
        "id": "PL8tkrVxHGSw",
        "outputId": "1b01c08b-0b6a-469a-9f7f-eb898638fd54"
      },
      "execution_count": null,
      "outputs": [
        {
          "output_type": "stream",
          "name": "stdout",
          "text": [
            "[[16  1 11]\n",
            " [ 5 18 19]\n",
            " [19 16  9]]\n",
            "[[1 2 3]\n",
            " [3 4 2]]\n"
          ]
        },
        {
          "output_type": "error",
          "ename": "ValueError",
          "evalue": "operands could not be broadcast together with shapes (3,3) (2,3) ",
          "traceback": [
            "\u001b[0;31m---------------------------------------------------------------------------\u001b[0m",
            "\u001b[0;31mValueError\u001b[0m                                Traceback (most recent call last)",
            "\u001b[0;32m<ipython-input-56-d5f17c7e1f61>\u001b[0m in \u001b[0;36m<cell line: 7>\u001b[0;34m()\u001b[0m\n\u001b[1;32m      5\u001b[0m \u001b[0mprint\u001b[0m\u001b[0;34m(\u001b[0m\u001b[0marr2\u001b[0m\u001b[0;34m)\u001b[0m\u001b[0;34m\u001b[0m\u001b[0;34m\u001b[0m\u001b[0m\n\u001b[1;32m      6\u001b[0m \u001b[0;34m\u001b[0m\u001b[0m\n\u001b[0;32m----> 7\u001b[0;31m \u001b[0mprint\u001b[0m\u001b[0;34m(\u001b[0m\u001b[0marr\u001b[0m\u001b[0;34m>\u001b[0m\u001b[0marr2\u001b[0m\u001b[0;34m)\u001b[0m\u001b[0;34m\u001b[0m\u001b[0;34m\u001b[0m\u001b[0m\n\u001b[0m",
            "\u001b[0;31mValueError\u001b[0m: operands could not be broadcast together with shapes (3,3) (2,3) "
          ]
        }
      ]
    },
    {
      "cell_type": "code",
      "source": [
        "import numpy as np\n",
        "print(\"enter row size\")\n",
        "r=int(input())\n",
        "print(\"enter the coloumn\")\n",
        "c=int(input())\n",
        "ar=np.random.randint(0,50,(r,c))\n",
        "print(ar)"
      ],
      "metadata": {
        "colab": {
          "base_uri": "https://localhost:8080/"
        },
        "id": "MKR9-4rGMcRi",
        "outputId": "cf908a61-65c2-42fc-e412-25130157d6c8"
      },
      "execution_count": null,
      "outputs": [
        {
          "output_type": "stream",
          "name": "stdout",
          "text": [
            "enter row size\n",
            "2\n",
            "enter the coloumn\n",
            "2\n",
            "[[42 48]\n",
            " [35  8]]\n"
          ]
        }
      ]
    },
    {
      "cell_type": "code",
      "source": [
        "# GCD of two nos using recursion\n",
        "def gcd_fun(x,y):\n",
        "  if(y==0):\n",
        "    return x\n",
        "  else:\n",
        "    return gcd_fun(y,x%y)\n",
        "x=int(input(\"Enter the first no:\"))\n",
        "y=int(input(\"Enter the second no:\"))\n",
        "num=gcd_fun(x,y)\n",
        "print(\"GCD of two nos is:\")\n",
        "print(num)"
      ],
      "metadata": {
        "colab": {
          "base_uri": "https://localhost:8080/"
        },
        "id": "gxQe61FM6wIn",
        "outputId": "85c7bee5-5af9-4b4b-f86d-528232c19210"
      },
      "execution_count": null,
      "outputs": [
        {
          "output_type": "stream",
          "name": "stdout",
          "text": [
            "Enter the first no:3\n",
            "Enter the second no:2\n",
            "GCD of two nos is:\n",
            "1\n"
          ]
        }
      ]
    },
    {
      "cell_type": "code",
      "source": [
        "# Linear Search\n",
        "def linear_search(arr, target):\n",
        "    for i in range(len(arr)):\n",
        "        if arr[i] == target:\n",
        "            return i\n",
        "    return -1\n",
        "arr = [4, 2, 8, 1, 5, 9, 3]\n",
        "target = 5\n",
        "result = linear_search(arr, target)\n",
        "if result != -1:\n",
        "    print(f\"Element {target} is present at index {result}.\")\n",
        "else:\n",
        "    print(f\"Element {target} is not present in the array.\")"
      ],
      "metadata": {
        "colab": {
          "base_uri": "https://localhost:8080/"
        },
        "id": "juonABjCQGeE",
        "outputId": "53cd675b-efb4-4562-9bec-29c5b60b40c1"
      },
      "execution_count": 8,
      "outputs": [
        {
          "output_type": "stream",
          "name": "stdout",
          "text": [
            "Element 5 is present at index 4.\n"
          ]
        }
      ]
    },
    {
      "cell_type": "code",
      "source": [
        "# Binary Search\n",
        "def binary_search(arr, target):\n",
        "    left = 0\n",
        "    right = len(arr) - 1\n",
        "\n",
        "    while left <= right:\n",
        "        mid = (left + right) // 2\n",
        "        if arr[mid] == target:\n",
        "            return mid\n",
        "        elif arr[mid] < target:\n",
        "            left = mid + 1\n",
        "        else:\n",
        "            right = mid - 1\n",
        "    return -1\n",
        "arr = [1, 2, 3, 4, 5, 6, 7, 8, 9]\n",
        "target = 7\n",
        "result = binary_search(arr, target)\n",
        "if result != -1:\n",
        "    print(f\"Element {target} is present at index {result}.\")\n",
        "else:\n",
        "    print(f\"Element {target} is not present in the array.\")"
      ],
      "metadata": {
        "colab": {
          "base_uri": "https://localhost:8080/"
        },
        "id": "mnSHxRf7SAn_",
        "outputId": "5efb24d1-5085-43b5-a24d-88c0c3383d05"
      },
      "execution_count": 15,
      "outputs": [
        {
          "output_type": "stream",
          "name": "stdout",
          "text": [
            "Element 7 is present at index 6.\n"
          ]
        }
      ]
    }
  ]
}