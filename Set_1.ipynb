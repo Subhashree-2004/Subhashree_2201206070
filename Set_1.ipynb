{
  "nbformat": 4,
  "nbformat_minor": 0,
  "metadata": {
    "colab": {
      "provenance": [],
      "authorship_tag": "ABX9TyPTi8RJg6LrYo14R9a2p0HF",
      "include_colab_link": true
    },
    "kernelspec": {
      "name": "python3",
      "display_name": "Python 3"
    },
    "language_info": {
      "name": "python"
    }
  },
  "cells": [
    {
      "cell_type": "markdown",
      "metadata": {
        "id": "view-in-github",
        "colab_type": "text"
      },
      "source": [
        "<a href=\"https://colab.research.google.com/github/Subhashree-2004/Subhashree_2201206070/blob/main/Set_1.ipynb\" target=\"_parent\"><img src=\"https://colab.research.google.com/assets/colab-badge.svg\" alt=\"Open In Colab\"/></a>"
      ]
    },
    {
      "cell_type": "code",
      "execution_count": null,
      "metadata": {
        "colab": {
          "base_uri": "https://localhost:8080/"
        },
        "id": "U9Dh3WAOmjfD",
        "outputId": "9d259ad4-3a54-42f2-8adf-3045d18fcbb1"
      },
      "outputs": [
        {
          "output_type": "stream",
          "name": "stdout",
          "text": [
            "Enter b:12\n",
            "Enter h:4\n",
            "Area of a triangle is= 24.0\n",
            "Enter a:5\n",
            "Enter b:5\n",
            "Enter c:6\n",
            "perimeter of a triangle is= 150\n"
          ]
        }
      ],
      "source": [
        "# Triangle area\n",
        "b=int(input('Enter b:'))\n",
        "h=int(input('Enter h:'))\n",
        "area=0.5*b*h\n",
        "print('Area of a triangle is=',area)\n",
        "# Triangle perimeter\n",
        "a=int(input('Enter a:'))\n",
        "b=int(input('Enter b:'))\n",
        "c=int(input('Enter c:'))\n",
        "perimeter=a*b*c\n",
        "print('perimeter of a triangle is=',perimeter)\n",
        "\n"
      ]
    },
    {
      "cell_type": "code",
      "source": [
        "# Rectangle area\n",
        "b=int(input('Enter b:'))\n",
        "l=int(input('Enter l:'))\n",
        "area=l*b\n",
        "print('Area of a rectangle is=',area)\n",
        "# Rectangle perimeter\n",
        "a=int(input('Enter a:'))\n",
        "b=int(input('Enter b:'))\n",
        "perimeter=2*(a+b)\n",
        "print('perimeter of a rectangle is=',perimeter)\n",
        "\n"
      ],
      "metadata": {
        "id": "jp411SfoptPc",
        "colab": {
          "base_uri": "https://localhost:8080/"
        },
        "outputId": "a46bf659-cd7a-4793-db6d-51677d541338"
      },
      "execution_count": null,
      "outputs": [
        {
          "output_type": "stream",
          "name": "stdout",
          "text": [
            "Enter b:4\n",
            "Enter l:5\n",
            "Area of a rectangle is= 20\n",
            "Enter a:3\n",
            "Enter b:2\n",
            "perimeter of a rectangle is= 10\n"
          ]
        }
      ]
    },
    {
      "cell_type": "code",
      "source": [
        "# Square area\n",
        "a=int(input('Enter a:'))\n",
        "area=a*a\n",
        "print('Area of a Square is=',area)\n",
        "# Square perimeter\n",
        "a=int(input('Enter a:'))\n",
        "perimeter=4*a\n",
        "print('perimeter of a Square is=',perimeter)\n"
      ],
      "metadata": {
        "colab": {
          "base_uri": "https://localhost:8080/"
        },
        "id": "SD2pY7KbF9wt",
        "outputId": "07ef35ef-d1f1-4b83-a801-a8925ea442ae"
      },
      "execution_count": null,
      "outputs": [
        {
          "output_type": "stream",
          "name": "stdout",
          "text": [
            "Enter a:4\n",
            "Area of a Square is= 16\n",
            "Enter a:6\n",
            "perimeter of a Square is= 24\n"
          ]
        }
      ]
    },
    {
      "cell_type": "code",
      "source": [
        "# Circle area\n",
        "r=int(input('Enter r:'))\n",
        "area=3.14*r*r\n",
        "print('Area of a circle is=',area)\n",
        "# Circle perimeter\n",
        "r=int(input('Enter r:'))\n",
        "perimeter=2*(a+b)\n",
        "print('perimeter of a circle is=',perimeter)\n"
      ],
      "metadata": {
        "colab": {
          "base_uri": "https://localhost:8080/"
        },
        "id": "Si-0yG38GpaG",
        "outputId": "9ba9c36a-33e3-4e2c-8ebe-c7955bede347"
      },
      "execution_count": null,
      "outputs": [
        {
          "output_type": "stream",
          "name": "stdout",
          "text": [
            "Enter r:5\n",
            "Area of a circle is= 78.5\n",
            "Enter r:7\n",
            "perimeter of a circle is= 16\n"
          ]
        }
      ]
    },
    {
      "cell_type": "code",
      "source": [
        "# Ellipse area\n",
        "b=int(input('Enter b:'))\n",
        "area=3.14*b\n",
        "print('Area of a ellipse is=',area)\n",
        "# Ellipse perimeter\n",
        "a=int(input('Enter a:'))\n",
        "b=int(input('Enter b:'))\n",
        "perimeter=3.14*(a+b)\n",
        "print('perimeter of a ellipse is=',perimeter)\n"
      ],
      "metadata": {
        "colab": {
          "base_uri": "https://localhost:8080/"
        },
        "id": "67Q6ghcIHM7G",
        "outputId": "234de91b-34c4-438d-ca4b-610ae1bcf4be"
      },
      "execution_count": null,
      "outputs": [
        {
          "output_type": "stream",
          "name": "stdout",
          "text": [
            "Enter b:12\n",
            "Area of a ellipse is= 37.68\n",
            "Enter a:4\n",
            "Enter b:5\n",
            "perimeter of a ellipse is= 28.26\n"
          ]
        }
      ]
    },
    {
      "cell_type": "code",
      "source": [
        "# Parallelogram area\n",
        "b=int(input('Enter b:'))\n",
        "h=int(input('Enter h:'))\n",
        "area=b*h\n",
        "print('Area of a parallelogram is=',area)\n",
        "# Parallelogram perimeter\n",
        "a=int(input('Enter a:'))\n",
        "b=int(input('Enter b:'))\n",
        "perimeter=2*(a+b)\n",
        "print('perimeter of a parallelogram is=',perimeter)\n"
      ],
      "metadata": {
        "colab": {
          "base_uri": "https://localhost:8080/"
        },
        "id": "IOW_UzdmH7Kp",
        "outputId": "e4cf3e45-7a45-4dfa-a3b4-223f0a164f80"
      },
      "execution_count": null,
      "outputs": [
        {
          "output_type": "stream",
          "name": "stdout",
          "text": [
            "Enter b:8\n",
            "Enter h:2\n",
            "Area of a parallelogram is= 16\n",
            "Enter a:11\n",
            "Enter b:5\n",
            "perimeter of a parallelogram is= 32\n"
          ]
        }
      ]
    },
    {
      "cell_type": "code",
      "source": [
        "# Trapezium area\n",
        "a=int(input('Enter a:'))\n",
        "b=int(input('Enter b:'))\n",
        "h=int(input('Enter h:'))\n",
        "area=0.5*(a+b)*h\n",
        "print('Area of a trapezium is=',area)\n",
        "# Trapezium perimeter\n",
        "a=int(input('Enter a:'))\n",
        "perimeter=4*a\n",
        "print('perimeter of a trapezium is=',perimeter)\n"
      ],
      "metadata": {
        "colab": {
          "base_uri": "https://localhost:8080/"
        },
        "id": "-kgoTp4kIz4a",
        "outputId": "01fb33fe-fb70-4a8e-f744-aac7c39812af"
      },
      "execution_count": null,
      "outputs": [
        {
          "output_type": "stream",
          "name": "stdout",
          "text": [
            "Enter a:3\n",
            "Enter b:4\n",
            "Enter h:6\n",
            "Area of a trapezium is= 21.0\n",
            "Enter a:5\n",
            "perimeter of a trapezium is= 20\n"
          ]
        }
      ]
    },
    {
      "cell_type": "code",
      "source": [
        "# Rhombus area\n",
        "a=int(input('Enter a:'))\n",
        "b=int(input('Enter b:'))\n",
        "area=0.5*(a*b)\n",
        "print('Area of a rhumbus is=',area)\n",
        "# Rhombus perimeter\n",
        "a=int(input('Enter a:'))\n",
        "perimeter=4*a\n",
        "print('perimeter of a rhombus is=',perimeter)\n"
      ],
      "metadata": {
        "colab": {
          "base_uri": "https://localhost:8080/"
        },
        "id": "VaAwjKwgKYkb",
        "outputId": "8405ebbb-24d9-479f-9395-8755af910e1f"
      },
      "execution_count": null,
      "outputs": [
        {
          "output_type": "stream",
          "name": "stdout",
          "text": [
            "Enter a:32\n",
            "Enter b:5\n",
            "Area of a rhumbus is= 80.0\n",
            "Enter a:8\n",
            "perimeter of a rhombus is= 32\n"
          ]
        }
      ]
    },
    {
      "cell_type": "code",
      "source": [
        "# Cube volume\n",
        "s=int(input('Enter s:'))\n",
        "volume=s*s*s\n",
        "print('volume of a cube is=',volume)\n",
        "# Cube surface area\n",
        "s=int(input('Enter s:'))\n",
        "surface_area=6*s*s\n",
        "print('surface area of a cube is=',surface_area)\n",
        "\n"
      ],
      "metadata": {
        "colab": {
          "base_uri": "https://localhost:8080/"
        },
        "id": "O4YjkFO9M2Fy",
        "outputId": "ef5ded09-6b69-487a-a6c1-f2dd2a1e5472"
      },
      "execution_count": null,
      "outputs": [
        {
          "output_type": "stream",
          "name": "stdout",
          "text": [
            "Enter s:20\n",
            "volume of a cube is= 8000\n",
            "Enter s:12\n",
            "surface area of a cube is= 864\n"
          ]
        }
      ]
    },
    {
      "cell_type": "code",
      "source": [
        "# Cuboid volume\n",
        "l=int(input('Enter l:'))\n",
        "w=int(input('Enter w:'))\n",
        "h=int(input('Enter h:'))\n",
        "volume=l*w*h\n",
        "print('volume of a cuboid is=',volume)\n",
        "# Cuboid surface area\n",
        "l=int(input('Enter l:'))\n",
        "w=int(input('Enter w:'))\n",
        "h=int(input('Enter h:'))\n",
        "surface_area=(2*l*h)+(2*l*w)+(2*w*h)\n",
        "print('surface area of a cuboid is=',surface_area)\n"
      ],
      "metadata": {
        "colab": {
          "base_uri": "https://localhost:8080/"
        },
        "id": "wHpQ-WWkOr4y",
        "outputId": "5d72792c-80e0-46b4-9a12-58b94ae86def"
      },
      "execution_count": null,
      "outputs": [
        {
          "output_type": "stream",
          "name": "stdout",
          "text": [
            "Enter l:2\n",
            "Enter w:3\n",
            "Enter h:4\n",
            "volume of a cuboid is= 24\n",
            "Enter l:6\n",
            "Enter w:4\n",
            "Enter h:2\n",
            "surface area of a cuboid is= 88\n"
          ]
        }
      ]
    },
    {
      "cell_type": "code",
      "source": [
        "# Regular tetrahedron volume\n",
        "import math\n",
        "b=int(input('Enter b:'))\n",
        "volume=(b*b*b)/(6*math.sqrt(2))\n",
        "print('volume of a regular tetrahedron is=',volume)\n",
        "# Regular tetrahedron surface area\n",
        "b=int(input('Enter b:'))\n",
        "surface_area=math.sqrt(3)*b*b\n",
        "print('surface area of regular tetrahedron is=',surface_area)\n"
      ],
      "metadata": {
        "colab": {
          "base_uri": "https://localhost:8080/"
        },
        "id": "6fQddUR8P3FF",
        "outputId": "a0cb6249-8086-4c86-bd7e-facd91c71261"
      },
      "execution_count": null,
      "outputs": [
        {
          "output_type": "stream",
          "name": "stdout",
          "text": [
            "Enter b:4\n",
            "volume of a regular tetrahedron is= 7.542472332656506\n",
            "Enter b:5\n",
            "surface area of regular tetrahedron is= 43.301270189221924\n"
          ]
        }
      ]
    },
    {
      "cell_type": "code",
      "source": [
        "# Pyramids volume\n",
        "a=int(input('Enter a:'))\n",
        "h=int(input('Enter h:'))\n",
        "volume=0.3*a*h\n",
        "print('volume of a pyramid is=',volume)\n"
      ],
      "metadata": {
        "colab": {
          "base_uri": "https://localhost:8080/"
        },
        "id": "X1nAcOjWVOwN",
        "outputId": "2197cb68-b5a5-4386-c676-302b3a6e4141"
      },
      "execution_count": null,
      "outputs": [
        {
          "output_type": "stream",
          "name": "stdout",
          "text": [
            "Enter a:23\n",
            "Enter h:2\n",
            "volume of a pyramid is= 13.799999999999999\n"
          ]
        }
      ]
    },
    {
      "cell_type": "code",
      "source": [
        "# Square pyramid volume\n",
        "s=int(input('Enter s:'))\n",
        "h=int(input('Enter h:'))\n",
        "volume=0.3*s*s*h\n",
        "print('volume of a square pyramid is=',volume)\n",
        "# Square pyramid surface area\n",
        "s=int(input('Enter s:'))\n",
        "h=int(input('Enter h:'))\n",
        "surface_area=(s*s)+(2*s*h)\n",
        "print('surface area of a square pyramid is=',surface_area)\n"
      ],
      "metadata": {
        "colab": {
          "base_uri": "https://localhost:8080/"
        },
        "id": "3qyPKz-SWSZG",
        "outputId": "0e5e4f14-6c81-483d-d4ad-15d00e63bfb9"
      },
      "execution_count": null,
      "outputs": [
        {
          "output_type": "stream",
          "name": "stdout",
          "text": [
            "Enter s:2\n",
            "Enter h:5\n",
            "volume of a square pyramid is= 6.0\n",
            "Enter s:6\n",
            "Enter h:4\n",
            "surface area of a square pyramid is= 84\n"
          ]
        }
      ]
    },
    {
      "cell_type": "code",
      "source": [
        "# Prisms volume\n",
        "a=int(input('Enter a:'))\n",
        "h=int(input('Enter h:'))\n",
        "volume=a*h\n",
        "print('volume of a prism is=',volume)\n",
        "# Prism surface area\n",
        "a=int(input('Enter a:'))\n",
        "h=int(input('Enter h:'))\n",
        "p=int(input('Enter p:'))\n",
        "surface_area=2*a+(h*p)\n",
        "print('surface area of a prism  is=',surface_area)\n"
      ],
      "metadata": {
        "colab": {
          "base_uri": "https://localhost:8080/"
        },
        "id": "R2ZSacP4XSCV",
        "outputId": "58ba2073-446b-4135-be78-3c2254f2529b"
      },
      "execution_count": null,
      "outputs": [
        {
          "output_type": "stream",
          "name": "stdout",
          "text": [
            "Enter a:5\n",
            "Enter h:8\n",
            "volume of a prism is= 40\n",
            "Enter a:6\n",
            "Enter h:4\n",
            "Enter p:3\n",
            "surface area of a prism  is= 24\n"
          ]
        }
      ]
    },
    {
      "cell_type": "code",
      "source": [
        "# Triangular prism volume\n",
        "l=int(input('Enter l:'))\n",
        "b=int(input('Enter b:'))\n",
        "h=int(input('Enter h:'))\n",
        "volume=l*b*h\n",
        "print('volume of a triangular prism is=',volume)\n",
        "# Triangular prism surface area\n",
        "l=int(input('Enter l:'))\n",
        "b=int(input('Enter b:'))\n",
        "h=int(input('Enter h:'))\n",
        "s=int(input('Enter s:'))\n",
        "surface_area=(b*h)+(2*l*s)+(l*b)\n",
        "print('surface area of a triangular prism is=',surface_area)\n"
      ],
      "metadata": {
        "colab": {
          "base_uri": "https://localhost:8080/"
        },
        "id": "o1Y8Zj80ZLm7",
        "outputId": "d250ad36-74da-4612-e62a-ad7f7ee3224b"
      },
      "execution_count": null,
      "outputs": [
        {
          "output_type": "stream",
          "name": "stdout",
          "text": [
            "Enter l:5\n",
            "Enter b:2\n",
            "Enter h:3\n",
            "volume of a triangular prism is= 30\n",
            "Enter l:6\n",
            "Enter b:7\n",
            "Enter h:3\n",
            "Enter s:4\n",
            "surface area of a triangular prism is= 111\n"
          ]
        }
      ]
    },
    {
      "cell_type": "code",
      "source": [
        "# Spheres volume\n",
        "n=int(input('Enter n:'))\n",
        "r=int(input('Enter r:'))\n",
        "volume=4/3*(n*r*r*r)\n",
        "print('volume of a spheres is=',volume)\n",
        "# Spheres surface area\n",
        "n=int(input('Enter n:'))\n",
        "r=int(input('Enter r:'))\n",
        "surface_area=4*n*r*r\n",
        "print('surface area of a spheres  is=',surface_area)\n"
      ],
      "metadata": {
        "colab": {
          "base_uri": "https://localhost:8080/"
        },
        "id": "fcVAR5V84WfY",
        "outputId": "6d8783df-16cb-4a16-96fd-2ed178091840"
      },
      "execution_count": null,
      "outputs": [
        {
          "output_type": "stream",
          "name": "stdout",
          "text": [
            "Enter n:23\n",
            "Enter r:4\n",
            "volume of a spheres is= 1962.6666666666665\n",
            "Enter n:12\n",
            "Enter r:5\n",
            "surface area of a spheres  is= 1200\n"
          ]
        }
      ]
    },
    {
      "cell_type": "code",
      "source": [
        "# Right circular cone volume\n",
        "n=int(input('Enter n:'))\n",
        "r=int(input('Enter r:'))\n",
        "h=int(input('Enter h:'))\n",
        "volume=1/3*(n*r*r*h)\n",
        "print('volume of a triangular prism is=',volume)\n",
        "# Right circular cone surface area\n",
        "n=int(input('Enter n:'))\n",
        "r=int(input('Enter r:'))\n",
        "s=int(input('Enter s:'))\n",
        "surface_area=n*r*(r+s)\n",
        "print('surface area of right circular cone is=',surface_area)\n"
      ],
      "metadata": {
        "colab": {
          "base_uri": "https://localhost:8080/"
        },
        "id": "YkP8D2jM5mMv",
        "outputId": "71f9ace0-f5b8-47f9-c330-0339d0d28d1a"
      },
      "execution_count": null,
      "outputs": [
        {
          "output_type": "stream",
          "name": "stdout",
          "text": [
            "Enter n:3\n",
            "Enter r:3\n",
            "Enter h:5\n",
            "volume of a triangular prism is= 45.0\n",
            "Enter n:21\n",
            "Enter r:6\n",
            "Enter s:2\n",
            "surface area of right circular cone is= 1008\n"
          ]
        }
      ]
    },
    {
      "cell_type": "code",
      "source": [
        "# Right cylinder volume\n",
        "n=int(input('Enter n:'))\n",
        "r=int(input('Enter r:'))\n",
        "h=int(input('Enter h:'))\n",
        "volume=n*r*r*h\n",
        "print('volume of a right cylinder is=',volume)\n",
        "# Right cylinder surface area\n",
        "n=int(input('Enter n:'))\n",
        "r=int(input('Enter r:'))\n",
        "h=int(input('Enter h:'))\n",
        "surface_area=2*n*r*(r+h)\n",
        "print('surface area of a right cylinder is=',surface_area)\n"
      ],
      "metadata": {
        "colab": {
          "base_uri": "https://localhost:8080/"
        },
        "id": "vIXN_BKq6siZ",
        "outputId": "aaadd063-5c93-456b-a883-299246e66407"
      },
      "execution_count": null,
      "outputs": [
        {
          "output_type": "stream",
          "name": "stdout",
          "text": [
            "Enter n:4\n",
            "Enter r:6\n",
            "Enter h:9\n",
            "volume of a right cylinder is= 1296\n",
            "Enter n:4\n",
            "Enter r:2\n",
            "Enter h:8\n",
            "surface area of a right cylinder is= 160\n"
          ]
        }
      ]
    },
    {
      "cell_type": "code",
      "source": [
        "# Swapping without using third variable\n",
        "x=34\n",
        "y=65\n",
        "print('After swapping')\n",
        "print('Value of x :',y)\n",
        "print('Value of y :',x)"
      ],
      "metadata": {
        "colab": {
          "base_uri": "https://localhost:8080/"
        },
        "id": "5gUOGvHw70KR",
        "outputId": "16d1efc3-ea8d-4e60-eea7-3297f32f2c78"
      },
      "execution_count": null,
      "outputs": [
        {
          "output_type": "stream",
          "name": "stdout",
          "text": [
            "After swapping\n",
            "Value of x : 65\n",
            "Value of y : 34\n"
          ]
        }
      ]
    },
    {
      "cell_type": "code",
      "source": [
        "# Swapping using third variable\n",
        "x=34\n",
        "y=65\n",
        "temp=x\n",
        "x=y\n",
        "y=temp\n",
        "print('After swapping')\n",
        "print('Value of x :',x)\n",
        "print('Value of y :',y)"
      ],
      "metadata": {
        "colab": {
          "base_uri": "https://localhost:8080/"
        },
        "id": "aX3O-TXo9428",
        "outputId": "7941ea12-e427-4994-ace6-6421fa4a27f5"
      },
      "execution_count": null,
      "outputs": [
        {
          "output_type": "stream",
          "name": "stdout",
          "text": [
            "After swapping\n",
            "Value of x : 65\n",
            "Value of y : 34\n"
          ]
        }
      ]
    },
    {
      "cell_type": "code",
      "source": [
        "# Reverse without using looping\n",
        "rev=0\n",
        "base=1;\n",
        "def reverse(num):\n",
        " global rev\n",
        " global base\n",
        " if(num>0):\n",
        "  reverse((int)(num/10))\n",
        "  rev+=(num%10)*base\n",
        "  base*=10\n",
        " return rev\n",
        "num= 1234567\n",
        "print(reverse(num))"
      ],
      "metadata": {
        "colab": {
          "base_uri": "https://localhost:8080/"
        },
        "id": "VefxYew1KuVA",
        "outputId": "ae39560b-0d2f-43db-c798-43c3a1b9af28"
      },
      "execution_count": null,
      "outputs": [
        {
          "output_type": "stream",
          "name": "stdout",
          "text": [
            "7654321\n"
          ]
        }
      ]
    },
    {
      "cell_type": "code",
      "source": [
        "# Amstrong or not\n",
        "num=int(input('Enter the no '))\n",
        "sum=0\n",
        "temp=num\n",
        "while temp>0:\n",
        "  digit=temp%10\n",
        "  sum+=digit*digit*digit\n",
        "  temp=temp//10\n",
        "  if(sum==num):\n",
        "    print('It is an amstrong no')\n",
        "  else:\n",
        "    print('It is not an amstrong no')\n"
      ],
      "metadata": {
        "colab": {
          "base_uri": "https://localhost:8080/"
        },
        "id": "bPHC-lshNwPw",
        "outputId": "0d603fee-337d-479b-eeb2-565cef4f4d9a"
      },
      "execution_count": null,
      "outputs": [
        {
          "output_type": "stream",
          "name": "stdout",
          "text": [
            "Enter the no 7\n",
            "It is not an amstrong no\n"
          ]
        }
      ]
    },
    {
      "cell_type": "code",
      "source": [
        "# armstrong num from 1 to 1000 count\n",
        "lower = 1\n",
        "upper = 1000\n",
        "\n",
        "for num in range(lower, upper + 1):\n",
        "\n",
        "   # order of number\n",
        "   order = len(str(num))\n",
        "\n",
        "   # initialize sum\n",
        "   sum = 0\n",
        "   counter=0\n",
        "   temp = num\n",
        "   while temp > 0:\n",
        "       digit = temp % 10\n",
        "       sum += digit ** order\n",
        "       temp //= 10\n",
        "       counter+=1\n",
        "\n",
        "   if num == sum:\n",
        "      print(num)"
      ],
      "metadata": {
        "colab": {
          "base_uri": "https://localhost:8080/"
        },
        "id": "-jql25C3g8pW",
        "outputId": "1701b040-7969-49de-fecb-b1045be51cdd"
      },
      "execution_count": null,
      "outputs": [
        {
          "output_type": "stream",
          "name": "stdout",
          "text": [
            "1\n",
            "2\n",
            "3\n",
            "4\n",
            "5\n",
            "6\n",
            "7\n",
            "8\n",
            "9\n",
            "153\n",
            "370\n",
            "371\n",
            "407\n"
          ]
        }
      ]
    },
    {
      "cell_type": "code",
      "source": [
        "# Amstrong no from 1 to 1000\n",
        "lower=int(input('Enter the no'))\n",
        "upper=int(input('Enter the no'))\n",
        "for num in range(lower,upper+1):\n",
        "   sum=0\n",
        "   temp=num\n",
        "while temp>0:\n",
        "   digit=temp%10\n",
        "   sum+=digit**3\n",
        "   temp//=10\n",
        "if num==sum:\n",
        "      print(num)\n"
      ],
      "metadata": {
        "colab": {
          "base_uri": "https://localhost:8080/"
        },
        "id": "x6txMJLVQD6V",
        "outputId": "9e0af422-359d-4ed3-9c9d-21d646bfe28c"
      },
      "execution_count": null,
      "outputs": [
        {
          "name": "stdout",
          "output_type": "stream",
          "text": [
            "Enter the no1\n",
            "Enter the no1000\n"
          ]
        }
      ]
    },
    {
      "cell_type": "code",
      "source": [
        "# Neon no or not\n",
        "sum=0\n",
        "num=int(input('Enter the no'))\n",
        "square=num*num\n",
        "while (square!=0):\n",
        "  digit=square%10\n",
        "  sum=sum+digit\n",
        "  square=square//10\n",
        "if(num==sum):\n",
        "  print(str(num)+' is neon no')\n",
        "else:\n",
        "  print(str(num)+' is not neon no')"
      ],
      "metadata": {
        "colab": {
          "base_uri": "https://localhost:8080/"
        },
        "id": "z6pqA32YTa09",
        "outputId": "7e130d7d-d745-4b11-b1b2-4bbd0ef65989"
      },
      "execution_count": null,
      "outputs": [
        {
          "output_type": "stream",
          "name": "stdout",
          "text": [
            "Enter the no9\n",
            "9 is neon no\n"
          ]
        }
      ]
    },
    {
      "cell_type": "code",
      "source": [
        "# Display neon no from 1 to 1000\n",
        "print('Enter range')\n",
        "range1=int(input())\n",
        "range2=int(input())\n",
        "print('Neon no between ',range1,'and',range2,'are:')\n",
        "for i in range(range1,range2+1):\n",
        "  sqr=i*i\n",
        "  sum=0\n",
        "  while sqr!=0:\n",
        "    rem=sqr%10\n",
        "    sum+=rem\n",
        "    sqr//=10\n",
        "  if sum==i:\n",
        "    print(i,end=\" \")"
      ],
      "metadata": {
        "colab": {
          "base_uri": "https://localhost:8080/"
        },
        "id": "zWVcVH33t78W",
        "outputId": "a94242ed-1abe-438b-9fd5-db9a8dd536be"
      },
      "execution_count": null,
      "outputs": [
        {
          "output_type": "stream",
          "name": "stdout",
          "text": [
            "Enter range\n",
            "1\n",
            "1000\n",
            "Neon no between  1 and 1000 are:\n",
            "1 9 "
          ]
        }
      ]
    },
    {
      "cell_type": "code",
      "source": [
        "# Automorphic no or not\n",
        "num=int(input('Enter the no '))\n",
        "square=pow(num,2)\n",
        "mod=pow(10,len(str(num)))\n",
        "if square%mod==num:\n",
        "  print('It is an automorphic no')\n",
        "else:\n",
        "  print('It is not an automorphic no')\n"
      ],
      "metadata": {
        "colab": {
          "base_uri": "https://localhost:8080/"
        },
        "id": "AzQ2P-OrZbTn",
        "outputId": "a1b09e99-032b-42ad-e30a-d4c65ef0a240"
      },
      "execution_count": null,
      "outputs": [
        {
          "output_type": "stream",
          "name": "stdout",
          "text": [
            "Enter the no 376\n",
            "It is an automorphic no\n"
          ]
        }
      ]
    },
    {
      "cell_type": "code",
      "source": [
        "# Perfect no or not\n",
        "num=int(input('Enter the no '))\n",
        "sum=0\n",
        "for i in range(1,num):\n",
        " if(num%i==0):\n",
        "  sum=sum+i\n",
        "if sum==num:\n",
        "  print('It is a perfect no')\n",
        "else:\n",
        "  print('It is not a perfect no')\n"
      ],
      "metadata": {
        "colab": {
          "base_uri": "https://localhost:8080/"
        },
        "id": "k1PyLKmfdFXP",
        "outputId": "cd88efc5-015a-4f60-d3e9-1eb1b4787f65"
      },
      "execution_count": null,
      "outputs": [
        {
          "output_type": "stream",
          "name": "stdout",
          "text": [
            "Enter the no 25\n",
            "It is not a perfect no\n"
          ]
        }
      ]
    },
    {
      "cell_type": "code",
      "source": [
        "# Abundant no or not\n",
        "num=int(input('Enter the no '))\n",
        "sum=1\n",
        "for i in range(2,num):\n",
        " if(num%i==0):\n",
        "  sum=sum+i\n",
        "if sum>num:\n",
        "  print('It is an abundant no')\n",
        "else:\n",
        "  print('It is not an abundant no')\n"
      ],
      "metadata": {
        "colab": {
          "base_uri": "https://localhost:8080/"
        },
        "id": "U62iHDtAeVPZ",
        "outputId": "da077aea-b45c-45b2-d572-49f30767b814"
      },
      "execution_count": null,
      "outputs": [
        {
          "output_type": "stream",
          "name": "stdout",
          "text": [
            "Enter the no 12\n",
            "It is an abundant no\n"
          ]
        }
      ]
    },
    {
      "cell_type": "code",
      "source": [
        "# Magic no or not\n",
        "def single_digit_summer(num):\n",
        " sum=0\n",
        " while num>0:\n",
        "  sum+=num%10\n",
        "  num=num//10\n",
        " return single_digit_summer(sum)\n",
        " num=int(input('Enter the no '))\n",
        "if sum==num:\n",
        "  print('It is a magic no')\n",
        "else:\n",
        "  print('It is not a magic no')\n"
      ],
      "metadata": {
        "id": "NmVXEBemj0n2"
      },
      "execution_count": null,
      "outputs": []
    },
    {
      "cell_type": "code",
      "source": [
        "# Spy no or not\n",
        "num=int(input('Enter the no '))\n",
        "sum=0\n",
        "product=1\n",
        "while(num>0):\n",
        "  d=num%10\n",
        "  sum=sum+d\n",
        "  product=product*d\n",
        "  num=num//10\n",
        "if sum==product:\n",
        "  print('It is a spy no')\n",
        "else:\n",
        "  print('It is not a spy no')\n"
      ],
      "metadata": {
        "colab": {
          "base_uri": "https://localhost:8080/"
        },
        "id": "E8SdcLNBmkhk",
        "outputId": "944752a8-49cb-4f75-8904-c4a63c6bd043"
      },
      "execution_count": null,
      "outputs": [
        {
          "output_type": "stream",
          "name": "stdout",
          "text": [
            "Enter the no 123\n",
            "It is a spy no\n"
          ]
        }
      ]
    },
    {
      "cell_type": "code",
      "source": [
        "# Perfect square or not\n",
        "import math\n",
        "num=int(input('Enter the no '))\n",
        "sqrt_num=math.sqrt(num)\n",
        "if sqrt_num.is_integer():\n",
        "  print('The no is perfect square')\n",
        "else:\n",
        "  print('The no is not perfect square')"
      ],
      "metadata": {
        "colab": {
          "base_uri": "https://localhost:8080/"
        },
        "id": "k9RaMA_opDzt",
        "outputId": "3eaaf7a2-7bd1-49c2-8406-c28a5b054da0"
      },
      "execution_count": null,
      "outputs": [
        {
          "output_type": "stream",
          "name": "stdout",
          "text": [
            "Enter the no 225\n",
            "The no is perfect square\n"
          ]
        }
      ]
    },
    {
      "cell_type": "code",
      "source": [
        "# Prime no or not\n",
        "num =int(input('Enter the no '))\n",
        "flag = False\n",
        "if num == 1:\n",
        "    print(num, \"is not a prime number\")\n",
        "elif num > 1:\n",
        "    for i in range(2, num):\n",
        "        if (num % i) == 0:\n",
        "            flag = True\n",
        "            break\n",
        "    if flag:\n",
        "        print(num, \"is not a prime number\")\n",
        "    else:\n",
        "        print(num, \"is a prime number\")"
      ],
      "metadata": {
        "colab": {
          "base_uri": "https://localhost:8080/"
        },
        "id": "DyaXpa16rs3G",
        "outputId": "66368211-6104-473d-904a-dd23f786716f"
      },
      "execution_count": null,
      "outputs": [
        {
          "output_type": "stream",
          "name": "stdout",
          "text": [
            "Enter the no 10\n",
            "10 is not a prime number\n"
          ]
        }
      ]
    },
    {
      "cell_type": "code",
      "source": [
        "# Celcius to kelvine\n",
        "c=float(input('Enter the temp'))\n",
        "k=c+273.15\n",
        "print('The temp in k',round(k,2))"
      ],
      "metadata": {
        "colab": {
          "base_uri": "https://localhost:8080/"
        },
        "id": "LzhlVh0PvXY6",
        "outputId": "ad929926-4d1a-4d2f-b8a2-98dabf41c93a"
      },
      "execution_count": null,
      "outputs": [
        {
          "output_type": "stream",
          "name": "stdout",
          "text": [
            "Enter the temp67.3\n",
            "The temp in k 340.45\n"
          ]
        }
      ]
    },
    {
      "cell_type": "code",
      "source": [
        "# Kelvine to celcius\n",
        "k=float(input('Enter the temp '))\n",
        "c=k-273.15\n",
        "print('The temp in c',round(c,2))"
      ],
      "metadata": {
        "colab": {
          "base_uri": "https://localhost:8080/"
        },
        "id": "DZmjHoB8wQbM",
        "outputId": "750472d9-f399-43cc-f716-d97da6f8a618"
      },
      "execution_count": null,
      "outputs": [
        {
          "output_type": "stream",
          "name": "stdout",
          "text": [
            "Enter the temp 45.6\n",
            "The temp in c -227.55\n"
          ]
        }
      ]
    },
    {
      "cell_type": "code",
      "source": [
        "# Farenhite to celcius\n",
        "f=float(input('Enter the temp '))\n",
        "c=(f-32)*(5/9)\n",
        "print('The temp in c',c)"
      ],
      "metadata": {
        "colab": {
          "base_uri": "https://localhost:8080/"
        },
        "id": "IpyNqpthwj5n",
        "outputId": "803168b8-e7f7-485e-e088-be87a42f1916"
      },
      "execution_count": null,
      "outputs": [
        {
          "output_type": "stream",
          "name": "stdout",
          "text": [
            "Enter the temp 32.5\n",
            "The temp in c 0.2777777777777778\n"
          ]
        }
      ]
    },
    {
      "cell_type": "code",
      "source": [
        "# Celcius to farenhite\n",
        "c=float(input('Enter the temp '))\n",
        "f=(1.8*c)+32\n",
        "print('The temp in f',f)"
      ],
      "metadata": {
        "colab": {
          "base_uri": "https://localhost:8080/"
        },
        "id": "yUPWGookxv81",
        "outputId": "899182e4-515b-45d3-a2ff-3ca627bffe5d"
      },
      "execution_count": null,
      "outputs": [
        {
          "output_type": "stream",
          "name": "stdout",
          "text": [
            "Enter the temp 45.2\n",
            "The temp in f 113.36000000000001\n"
          ]
        }
      ]
    },
    {
      "cell_type": "code",
      "source": [
        "# Farenhite to kelvine\n",
        "f=float(input('Enter the temp '))\n",
        "k=(f-32)*(5/9)+273.15\n",
        "print('The temp in k',k)"
      ],
      "metadata": {
        "colab": {
          "base_uri": "https://localhost:8080/"
        },
        "id": "kyZt8ogYyJ9x",
        "outputId": "5c72bced-20a4-4e61-fdd8-e51db3d16734"
      },
      "execution_count": null,
      "outputs": [
        {
          "output_type": "stream",
          "name": "stdout",
          "text": [
            "Enter the temp 56.8\n",
            "The temp in k 286.92777777777775\n"
          ]
        }
      ]
    },
    {
      "cell_type": "code",
      "source": [
        "# Kelvine to farenhite\n",
        "k=float(input('Enter the temp '))\n",
        "f=(k-273.15)*(9/5)+32\n",
        "print('The temp in f',f)"
      ],
      "metadata": {
        "colab": {
          "base_uri": "https://localhost:8080/"
        },
        "id": "4ctfyq2KyZfJ",
        "outputId": "3e08354e-ed26-4bff-873f-97f422894c87"
      },
      "execution_count": null,
      "outputs": [
        {
          "output_type": "stream",
          "name": "stdout",
          "text": [
            "Enter the temp 67.3\n",
            "The temp in f -338.53\n"
          ]
        }
      ]
    },
    {
      "cell_type": "code",
      "source": [
        "# display all automorphic number within range 1 to 1000\n",
        "def is_automorphic(num):\n",
        "    square = num ** 2\n",
        "    num_str = str(num)\n",
        "    square_str = str(square)\n",
        "    return square_str.endswith(num_str)\n",
        "\n",
        "def find_automorphic_numbers(start, end):\n",
        "    automorphic_numbers = []\n",
        "    for num in range(start, end + 1):\n",
        "        if is_automorphic(num):\n",
        "            automorphic_numbers.append(num)\n",
        "    return automorphic_numbers\n",
        "\n",
        "start_range = 1\n",
        "end_range = 1000\n",
        "automorphic_numbers = find_automorphic_numbers(start_range, end_range)\n",
        "print(\"Automorphic numbers between 1 to 1000\",automorphic_numbers)"
      ],
      "metadata": {
        "colab": {
          "base_uri": "https://localhost:8080/"
        },
        "id": "FZlBRzWFfXdA",
        "outputId": "c06c3193-3b75-407f-c34c-2faed1ef5f8c"
      },
      "execution_count": null,
      "outputs": [
        {
          "output_type": "stream",
          "name": "stdout",
          "text": [
            "Automorphic numbers between 1 to 1000 [1, 5, 6, 25, 76, 376, 625]\n"
          ]
        }
      ]
    },
    {
      "cell_type": "code",
      "source": [
        "# count automorphic numbers\n",
        "def is_automorphic(num):\n",
        "    square = num ** 2\n",
        "    num_str = str(num)\n",
        "    square_str = str(square)\n",
        "    return square_str.endswith(num_str)\n",
        "\n",
        "def count_automorphic_numbers(start, end):\n",
        "    count = 0\n",
        "    for num in range(start, end + 1):\n",
        "        if is_automorphic(num):\n",
        "            count += 1\n",
        "    return count\n",
        "\n",
        "start_range = 1\n",
        "end_range = 1000\n",
        "automorphic_num_count = count_automorphic_numbers(start_range, end_range)\n",
        "print(\"Number of automorphic num\",automorphic_num_count)"
      ],
      "metadata": {
        "colab": {
          "base_uri": "https://localhost:8080/"
        },
        "id": "Mnh6sC3Xibtb",
        "outputId": "340cf530-8aab-4748-9ae1-336213f8ef83"
      },
      "execution_count": null,
      "outputs": [
        {
          "output_type": "stream",
          "name": "stdout",
          "text": [
            "Number of automorphic num 7\n"
          ]
        }
      ]
    },
    {
      "cell_type": "code",
      "source": [
        "# coun the number of deficient numbers\n",
        "def sum_of_proper_divisors(n):\n",
        "    sum_divisors = 0\n",
        "    for i in range(1, n):\n",
        "        if n % i == 0:\n",
        "            sum_divisors += i\n",
        "    return sum_divisors\n",
        "\n",
        "def count_deficient_numbers(start, end):\n",
        "    count = 0\n",
        "    for num in range(start, end + 1):\n",
        "        if sum_of_proper_divisors(num) < num:\n",
        "            count += 1\n",
        "    return count\n",
        "\n",
        "start_range = 1\n",
        "end_range = 1000\n",
        "deficient_number_count = count_deficient_numbers(start_range, end_range)\n",
        "print(\"Number of deficient numbers\",deficient_number_count)"
      ],
      "metadata": {
        "colab": {
          "base_uri": "https://localhost:8080/"
        },
        "id": "l1qG-1jdirIf",
        "outputId": "ca54e91b-bd38-4f01-ae0c-41b8c5589f7a"
      },
      "execution_count": null,
      "outputs": [
        {
          "output_type": "stream",
          "name": "stdout",
          "text": [
            "Number of deficient numbers 751\n"
          ]
        }
      ]
    },
    {
      "cell_type": "code",
      "source": [
        "# display all deficient number from 1 to 1000\n",
        "def sum_of_proper_divisors(n):\n",
        "    sum_divisors = 0\n",
        "    for i in range(1, n):\n",
        "        if n % i == 0:\n",
        "            sum_divisors += i\n",
        "    return sum_divisors\n",
        "\n",
        "def find_deficient_numbers(start, end):\n",
        "    deficient_numbers = []\n",
        "    for num in range(start, end + 1):\n",
        "        if sum_of_proper_divisors(num) < num:\n",
        "            deficient_numbers.append(num)\n",
        "    return deficient_numbers\n",
        "\n",
        "start_range = 1\n",
        "end_range = 1000\n",
        "deficient_numbers = find_deficient_numbers(start_range, end_range)\n",
        "print(\"Deficient numbers between 1 t0 1000\",deficient_numbers)"
      ],
      "metadata": {
        "colab": {
          "base_uri": "https://localhost:8080/"
        },
        "id": "OmKJOo6Fi4wN",
        "outputId": "5aa7c3dc-b145-49b8-8a7e-f33f3529b821"
      },
      "execution_count": null,
      "outputs": [
        {
          "output_type": "stream",
          "name": "stdout",
          "text": [
            "Deficient numbers between 1 t0 1000 [1, 2, 3, 4, 5, 7, 8, 9, 10, 11, 13, 14, 15, 16, 17, 19, 21, 22, 23, 25, 26, 27, 29, 31, 32, 33, 34, 35, 37, 38, 39, 41, 43, 44, 45, 46, 47, 49, 50, 51, 52, 53, 55, 57, 58, 59, 61, 62, 63, 64, 65, 67, 68, 69, 71, 73, 74, 75, 76, 77, 79, 81, 82, 83, 85, 86, 87, 89, 91, 92, 93, 94, 95, 97, 98, 99, 101, 103, 105, 106, 107, 109, 110, 111, 113, 115, 116, 117, 118, 119, 121, 122, 123, 124, 125, 127, 128, 129, 130, 131, 133, 134, 135, 136, 137, 139, 141, 142, 143, 145, 146, 147, 148, 149, 151, 152, 153, 154, 155, 157, 158, 159, 161, 163, 164, 165, 166, 167, 169, 170, 171, 172, 173, 175, 177, 178, 179, 181, 182, 183, 184, 185, 187, 188, 189, 190, 191, 193, 194, 195, 197, 199, 201, 202, 203, 205, 206, 207, 209, 211, 212, 213, 214, 215, 217, 218, 219, 221, 223, 225, 226, 227, 229, 230, 231, 232, 233, 235, 236, 237, 238, 239, 241, 242, 243, 244, 245, 247, 248, 249, 250, 251, 253, 254, 255, 256, 257, 259, 261, 262, 263, 265, 266, 267, 268, 269, 271, 273, 274, 275, 277, 278, 279, 281, 283, 284, 285, 286, 287, 289, 290, 291, 292, 293, 295, 296, 297, 298, 299, 301, 302, 303, 305, 307, 309, 310, 311, 313, 314, 315, 316, 317, 319, 321, 322, 323, 325, 326, 327, 328, 329, 331, 332, 333, 334, 335, 337, 338, 339, 341, 343, 344, 345, 346, 347, 349, 351, 353, 355, 356, 357, 358, 359, 361, 362, 363, 365, 367, 369, 370, 371, 373, 374, 375, 376, 377, 379, 381, 382, 383, 385, 386, 387, 388, 389, 391, 393, 394, 395, 397, 398, 399, 401, 403, 404, 405, 406, 407, 409, 410, 411, 412, 413, 415, 417, 418, 419, 421, 422, 423, 424, 425, 427, 428, 429, 430, 431, 433, 434, 435, 436, 437, 439, 441, 442, 443, 445, 446, 447, 449, 451, 452, 453, 454, 455, 457, 458, 459, 461, 463, 465, 466, 467, 469, 470, 471, 472, 473, 475, 477, 478, 479, 481, 482, 483, 484, 485, 487, 488, 489, 491, 493, 494, 495, 497, 499, 501, 502, 503, 505, 506, 507, 508, 509, 511, 512, 513, 514, 515, 517, 518, 519, 521, 523, 524, 525, 526, 527, 529, 530, 531, 533, 535, 536, 537, 538, 539, 541, 542, 543, 545, 547, 548, 549, 551, 553, 554, 555, 556, 557, 559, 561, 562, 563, 565, 566, 567, 568, 569, 571, 573, 574, 575, 577, 578, 579, 581, 583, 584, 585, 586, 587, 589, 590, 591, 592, 593, 595, 596, 597, 598, 599, 601, 602, 603, 604, 605, 607, 609, 610, 611, 613, 614, 615, 617, 619, 621, 622, 623, 625, 626, 627, 628, 629, 631, 632, 633, 634, 635, 637, 638, 639, 641, 643, 645, 646, 647, 649, 651, 652, 653, 655, 656, 657, 658, 659, 661, 662, 663, 664, 665, 667, 668, 669, 670, 671, 673, 674, 675, 676, 677, 679, 681, 682, 683, 685, 686, 687, 688, 689, 691, 692, 693, 694, 695, 697, 698, 699, 701, 703, 705, 706, 707, 709, 710, 711, 712, 713, 715, 716, 717, 718, 719, 721, 722, 723, 724, 725, 727, 729, 730, 731, 733, 734, 735, 737, 739, 741, 742, 743, 745, 746, 747, 749, 751, 752, 753, 754, 755, 757, 758, 759, 761, 763, 764, 765, 766, 767, 769, 771, 772, 773, 775, 776, 777, 778, 779, 781, 782, 783, 785, 787, 788, 789, 790, 791, 793, 794, 795, 796, 797, 799, 801, 802, 803, 805, 806, 807, 808, 809, 811, 813, 814, 815, 817, 818, 819, 821, 823, 824, 825, 826, 827, 829, 830, 831, 833, 835, 837, 838, 839, 841, 842, 843, 844, 845, 847, 848, 849, 850, 851, 853, 854, 855, 856, 857, 859, 861, 862, 863, 865, 866, 867, 869, 871, 872, 873, 874, 875, 877, 878, 879, 881, 883, 884, 885, 886, 887, 889, 890, 891, 892, 893, 895, 897, 898, 899, 901, 902, 903, 904, 905, 907, 908, 909, 911, 913, 914, 915, 916, 917, 919, 921, 922, 923, 925, 926, 927, 929, 931, 932, 933, 934, 935, 937, 938, 939, 941, 943, 944, 946, 947, 949, 950, 951, 953, 955, 956, 957, 958, 959, 961, 962, 963, 964, 965, 967, 969, 970, 971, 973, 974, 975, 976, 977, 979, 981, 982, 983, 985, 986, 987, 988, 989, 991, 993, 994, 995, 997, 998, 999]\n"
          ]
        }
      ]
    },
    {
      "cell_type": "code",
      "source": [
        "# deficient number\n",
        "import math\n",
        "def divsum(n) :\n",
        "   sum = 0\n",
        "   i = 1\n",
        "   while i<= math.sqrt(n) :\n",
        "      if (n % i == 0) :\n",
        "\n",
        "          if (n / i == i) :\n",
        "              sum = sum + i\n",
        "          else :\n",
        "              sum = sum + i;\n",
        "              sum = sum + (n / i)\n",
        "      i = i + 1\n",
        "   return sum\n",
        "def isDef(n) :\n",
        "\n",
        "   return (divsum(n) < (2 * n))\n",
        "\n",
        "n = int(input(\"Enter the number?\"))\n",
        "if ( isDef(n) ):\n",
        "   print(\"The number is deficient.\")\n",
        "else :\n",
        "   print(\"The number is not deficient.\")"
      ],
      "metadata": {
        "colab": {
          "base_uri": "https://localhost:8080/"
        },
        "id": "dGhG4Vzai73p",
        "outputId": "cc33a4eb-6a03-4f53-afc7-77e84c20afa6"
      },
      "execution_count": null,
      "outputs": [
        {
          "output_type": "stream",
          "name": "stdout",
          "text": [
            "Enter the number?344\n",
            "The number is deficient.\n"
          ]
        }
      ]
    }
  ]
}