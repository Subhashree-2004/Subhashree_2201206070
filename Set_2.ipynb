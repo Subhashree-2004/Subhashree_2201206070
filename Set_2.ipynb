{
  "nbformat": 4,
  "nbformat_minor": 0,
  "metadata": {
    "colab": {
      "provenance": [],
      "authorship_tag": "ABX9TyPu0dB+D6eLPuKhBfbaElKA",
      "include_colab_link": true
    },
    "kernelspec": {
      "name": "python3",
      "display_name": "Python 3"
    },
    "language_info": {
      "name": "python"
    }
  },
  "cells": [
    {
      "cell_type": "markdown",
      "metadata": {
        "id": "view-in-github",
        "colab_type": "text"
      },
      "source": [
        "<a href=\"https://colab.research.google.com/github/Subhashree-2004/Subhashree_2201206070/blob/main/Set_2.ipynb\" target=\"_parent\"><img src=\"https://colab.research.google.com/assets/colab-badge.svg\" alt=\"Open In Colab\"/></a>"
      ]
    },
    {
      "cell_type": "code",
      "execution_count": null,
      "metadata": {
        "colab": {
          "base_uri": "https://localhost:8080/"
        },
        "id": "XPCDzG6JUZ0o",
        "outputId": "6c9275f3-131d-41a9-d9e6-5be641a640b9"
      },
      "outputs": [
        {
          "output_type": "stream",
          "name": "stdout",
          "text": [
            "Enter a number: 12\n",
            "1, 2, 3, 4, 5, 6, 7, 8, 9, 10, 11, 12\n"
          ]
        }
      ],
      "source": [
        "def print_series(n):\n",
        "    series = \", \".join(str(i) for i in range(1, n+1))\n",
        "    print(series)\n",
        "n = int(input(\"Enter a number: \"))\n",
        "print_series(n)"
      ]
    },
    {
      "cell_type": "code",
      "source": [
        "def print_odd_series(n):\n",
        "    for i in range(1, n+1, 2):\n",
        "        print(i, end=\", \")\n",
        "        n = int(input(\"Enter the value of n: \"))\n",
        "  print(\"Odd series up to\", n, \":\" end=\" \")\n",
        "print_odd_series(n)"
      ],
      "metadata": {
        "colab": {
          "base_uri": "https://localhost:8080/",
          "height": 106
        },
        "id": "VGq0wh1KWvzK",
        "outputId": "7fe49fdf-b6a0-42fb-f7f1-41f5ef545548"
      },
      "execution_count": null,
      "outputs": [
        {
          "output_type": "error",
          "ename": "SyntaxError",
          "evalue": "invalid syntax. Perhaps you forgot a comma? (<ipython-input-8-f10bb88937c0>, line 5)",
          "traceback": [
            "\u001b[0;36m  File \u001b[0;32m\"<ipython-input-8-f10bb88937c0>\"\u001b[0;36m, line \u001b[0;32m5\u001b[0m\n\u001b[0;31m    print(\"Odd series up to\", n, \":\" end=\" \")\u001b[0m\n\u001b[0m                                 ^\u001b[0m\n\u001b[0;31mSyntaxError\u001b[0m\u001b[0;31m:\u001b[0m invalid syntax. Perhaps you forgot a comma?\n"
          ]
        }
      ]
    },
    {
      "cell_type": "code",
      "source": [
        "def print_even_series(n):\n",
        "    for i in range(2, n+1, 2):\n",
        "        print(i, end=\", \")\n",
        "\n",
        "n = int(input(\"Enter the value of n: \"))\n",
        "print(\"Even series up to\", n, \":\", end=\" \")\n",
        "print_even_series(n)"
      ],
      "metadata": {
        "colab": {
          "base_uri": "https://localhost:8080/"
        },
        "id": "lOb7VELRcZpX",
        "outputId": "ee26d295-f7e0-4cfd-fc1a-4e3cbcb5b120"
      },
      "execution_count": null,
      "outputs": [
        {
          "output_type": "stream",
          "name": "stdout",
          "text": [
            "Enter the value of n: 10\n",
            "Even series up to 10 : 2, 4, 6, 8, 10, "
          ]
        }
      ]
    },
    {
      "cell_type": "code",
      "source": [
        "def print_squared_series(n):\n",
        "    for i in range(1, n+1):\n",
        "        print(i**2, end=\", \")\n",
        "\n",
        "n = int(input(\"Enter the value of n: \"))\n",
        "print(\"Squared series up to\", n, \":\", end=\" \")\n",
        "print_squared_series(n)"
      ],
      "metadata": {
        "colab": {
          "base_uri": "https://localhost:8080/"
        },
        "id": "RtrvZWg6cw5U",
        "outputId": "fa5a21eb-b38f-4b49-9684-b8d4a5d95eb7"
      },
      "execution_count": null,
      "outputs": [
        {
          "output_type": "stream",
          "name": "stdout",
          "text": [
            "Enter the value of n: 20\n",
            "Squared series up to 20 : 1, 4, 9, 16, 25, 36, 49, 64, 81, 100, 121, 144, 169, 196, 225, 256, 289, 324, 361, 400, "
          ]
        }
      ]
    },
    {
      "cell_type": "code",
      "source": [
        "def print_squared_odd_series(n):\n",
        "    for i in range(1, n+1, 2):\n",
        "        print(i**2, end=\", \")\n",
        "\n",
        "n = int(input(\"Enter the value of n: \"))\n",
        "print(\"Squared odd series up to\", n, \":\", end=\" \")\n",
        "print_squared_odd_series(n)"
      ],
      "metadata": {
        "colab": {
          "base_uri": "https://localhost:8080/"
        },
        "id": "5BhhrWwidBFC",
        "outputId": "04609993-701d-4ade-fb78-b1d145fb89d9"
      },
      "execution_count": null,
      "outputs": [
        {
          "output_type": "stream",
          "name": "stdout",
          "text": [
            "Enter the value of n: 5\n",
            "Squared odd series up to 5 : 1, 9, 25, "
          ]
        }
      ]
    },
    {
      "cell_type": "code",
      "source": [
        "def print_squared_even_series(n):\n",
        "    for i in range(2, n+1, 2):\n",
        "        print(i**2, end=\", \")\n",
        "\n",
        "n = int(input(\"Enter the value of n: \"))\n",
        "print(\"Squared even series up to\", n, \":\", end=\" \")\n",
        "print_squared_even_series(n)"
      ],
      "metadata": {
        "colab": {
          "base_uri": "https://localhost:8080/"
        },
        "id": "tOTtOBD0dL25",
        "outputId": "328a7020-3451-4004-ab5a-2a60ee46aef9"
      },
      "execution_count": null,
      "outputs": [
        {
          "output_type": "stream",
          "name": "stdout",
          "text": [
            "Enter the value of n: 10\n",
            "Squared even series up to 10 : 4, 16, 36, 64, 100, "
          ]
        }
      ]
    },
    {
      "cell_type": "code",
      "source": [
        "def print_power_series(n, r):\n",
        "    for i in range(1, n+1):\n",
        "        print(i ** r, end=\", \")\n",
        "\n",
        "r = int(input(\"Enter the value of r: \"))\n",
        "n = int(input(\"Enter the value of n: \"))\n",
        "print(\"Series up to\", n, \"raised to the power of\", r, \":\", end=\" \")\n",
        "print_power_series(n, r)"
      ],
      "metadata": {
        "colab": {
          "base_uri": "https://localhost:8080/"
        },
        "id": "MRcjNUHhdS03",
        "outputId": "71baf8d6-c1e4-4a29-c374-b3e901e78d75"
      },
      "execution_count": null,
      "outputs": [
        {
          "output_type": "stream",
          "name": "stdout",
          "text": [
            "Enter the value of r: 12\n",
            "Enter the value of n: 6\n",
            "Series up to 6 raised to the power of 12 : 1, 4096, 531441, 16777216, 244140625, 2176782336, "
          ]
        }
      ]
    },
    {
      "cell_type": "code",
      "source": [
        "def print_odd_power_series(n, r):\n",
        "    for i in range(1, n+1, 2):\n",
        "        print(i ** r, end=\", \")\n",
        "\n",
        "r = int(input(\"Enter the value of r: \"))\n",
        "n = int(input(\"Enter the value of n: \"))\n",
        "print(\"Series of odd num to the pow of\", r, \"up to\", n, \":\", end=\" \")\n",
        "print_odd_power_series(n, r)"
      ],
      "metadata": {
        "colab": {
          "base_uri": "https://localhost:8080/"
        },
        "id": "uGlDdBcZdkPB",
        "outputId": "0b2392ab-bc11-4b74-bd8a-f62604b219b2"
      },
      "execution_count": null,
      "outputs": [
        {
          "output_type": "stream",
          "name": "stdout",
          "text": [
            "Enter the value of r: 4\n",
            "Enter the value of n: 8\n",
            "Series of odd num to the pow of 4 up to 8 : 1, 81, 625, 2401, "
          ]
        }
      ]
    },
    {
      "cell_type": "code",
      "source": [
        "def print_even_power_series(n, r):\n",
        "    for i in range(2, n+1, 2):\n",
        "        print(i ** r, end=\", \")\n",
        "\n",
        "r = int(input(\"Enter the value of r: \"))\n",
        "n = int(input(\"Enter the value of n: \"))\n",
        "print(\"Series of even num to the power of\", r, \"up to\", n, \":\", end=\" \")\n",
        "print_even_power_series(n, r)"
      ],
      "metadata": {
        "colab": {
          "base_uri": "https://localhost:8080/"
        },
        "id": "VNgRGD0SdvaO",
        "outputId": "571d1ac8-2a98-4ced-c1f5-51c3bb07b769"
      },
      "execution_count": null,
      "outputs": [
        {
          "output_type": "stream",
          "name": "stdout",
          "text": [
            "Enter the value of r: 45\n",
            "Enter the value of n: 3\n",
            "Series of even num to the power of 45 up to 3 : 35184372088832, "
          ]
        }
      ]
    },
    {
      "cell_type": "code",
      "source": [
        "def factorial_iterative(n):\n",
        "    factorial = 1\n",
        "    for i in range(1, n + 1):\n",
        "        factorial *= i\n",
        "    return factorial\n",
        "\n",
        "# Input\n",
        "n = int(input(\"Enter a number: \"))\n",
        "\n",
        "# Calculating factorial using iterative approach\n",
        "result = factorial_iterative(n)\n",
        "print(\"Factorial of\", n, \"is\", result)"
      ],
      "metadata": {
        "colab": {
          "base_uri": "https://localhost:8080/"
        },
        "id": "Boixmoyld34b",
        "outputId": "13d6128a-6fc5-4984-8926-97a8b734f125"
      },
      "execution_count": null,
      "outputs": [
        {
          "output_type": "stream",
          "name": "stdout",
          "text": [
            "Enter a number: 5\n",
            "Factorial of 5 is 120\n"
          ]
        }
      ]
    },
    {
      "cell_type": "code",
      "source": [
        "def factorial(num):\n",
        "    if num == 0:\n",
        "        return 1\n",
        "    else:\n",
        "        return num * factorial(num - 1)\n",
        "\n",
        "def print_factorials(n):\n",
        "    for i in range(1, n + 1):\n",
        "        print(i, \"!\", factorial(i))\n",
        "\n",
        "# Input\n",
        "n = int(input(\"Enter a number: \"))\n",
        "\n",
        "# Print factorials from 1! to n!\n",
        "print(\"Factorials from 1! to\", n, \"!\")\n",
        "print_factorials(n)"
      ],
      "metadata": {
        "colab": {
          "base_uri": "https://localhost:8080/"
        },
        "id": "b3kui4EueAKY",
        "outputId": "6fe2e5f3-b818-44f3-947b-5d90eb41e5e3"
      },
      "execution_count": null,
      "outputs": [
        {
          "output_type": "stream",
          "name": "stdout",
          "text": [
            "Enter a number: 6\n",
            "Factorials from 1! to 6 !\n",
            "1 ! 1\n",
            "2 ! 2\n",
            "3 ! 6\n",
            "4 ! 24\n",
            "5 ! 120\n",
            "6 ! 720\n"
          ]
        }
      ]
    },
    {
      "cell_type": "code",
      "source": [
        "def factorial(num):\n",
        "    if num == 0:\n",
        "        return 1\n",
        "    else:\n",
        "        return num * factorial(num - 1)\n",
        "\n",
        "def print_odd_factorials(n):\n",
        "    for i in range(1, n + 1, 2):\n",
        "        print(i, \"!\", factorial(i))\n",
        "\n",
        "# Input\n",
        "n = int(input(\"Enter a number: \"))\n",
        "\n",
        "# Print factorials of odd numbers from 1! to n!\n",
        "print(\"Factorials of odd numbers from 1! to\", n, \"!\")\n",
        "print_odd_factorials(n)"
      ],
      "metadata": {
        "colab": {
          "base_uri": "https://localhost:8080/"
        },
        "id": "Vifm9kzUeGwX",
        "outputId": "9781d1c1-087e-4adf-e07f-d75fa043d341"
      },
      "execution_count": null,
      "outputs": [
        {
          "output_type": "stream",
          "name": "stdout",
          "text": [
            "Enter a number: 6\n",
            "Factorials of odd numbers from 1! to 6 !\n",
            "1 ! 1\n",
            "3 ! 6\n",
            "5 ! 120\n"
          ]
        }
      ]
    },
    {
      "cell_type": "code",
      "source": [
        "def factorial(num):\n",
        "    if num == 0:\n",
        "        return 1\n",
        "    else:\n",
        "        return num * factorial(num - 1)\n",
        "\n",
        "def print_even_factorials(start, n):\n",
        "    for i in range(start, n + 1, 2):\n",
        "        print(i, \"!\", factorial(i))\n",
        "\n",
        "# Input\n",
        "n = int(input(\"Enter a number: \"))\n",
        "\n",
        "# Print factorials of even numbers starting from 4! to n!\n",
        "print(\"Factorials of even numbers starting from 4! to\", n, \"!\")\n",
        "print_even_factorials(2, n)"
      ],
      "metadata": {
        "colab": {
          "base_uri": "https://localhost:8080/"
        },
        "id": "cYHeHwtteOWA",
        "outputId": "f17ee73e-2d53-4602-e0ef-a745b5d12ccc"
      },
      "execution_count": null,
      "outputs": [
        {
          "output_type": "stream",
          "name": "stdout",
          "text": [
            "Enter a number: 9\n",
            "Factorials of even numbers starting from 4! to 9 !\n",
            "2 ! 2\n",
            "4 ! 24\n",
            "6 ! 720\n",
            "8 ! 40320\n"
          ]
        }
      ]
    },
    {
      "cell_type": "code",
      "source": [
        "#To find sum of the following\n",
        "def calculate_sum(n):\n",
        "    total = 0\n",
        "    for i in range(1, n + 1):\n",
        "        total += i\n",
        "    return total\n",
        "\n",
        "n = int(input(\"Enter the value of n: \"))\n",
        "result = calculate_sum(n)\n",
        "print(\"The sum of the series 1+2+3+4+...+{} is: {}\".format(n, result))"
      ],
      "metadata": {
        "colab": {
          "base_uri": "https://localhost:8080/"
        },
        "id": "hFJO6kUFefKG",
        "outputId": "1c9e461b-fc8f-43f6-e305-23e0f5c01b2a"
      },
      "execution_count": null,
      "outputs": [
        {
          "output_type": "stream",
          "name": "stdout",
          "text": [
            "Enter the value of n: 8\n",
            "The sum of the series 1+2+3+4+...+8 is: 36\n"
          ]
        }
      ]
    },
    {
      "cell_type": "code",
      "source": [
        "# Increment by 2 to get odd numbers\n",
        "def calculate_sum(n):\n",
        "    total = 0\n",
        "    for i in range(1, n + 1, 2):\n",
        "        total += i\n",
        "    return total\n",
        "\n",
        "n = int(input(\"Enter the value of n: \"))\n",
        "result = calculate_sum(n)\n",
        "print(\"The sum of the series 1+3+5+...+{} is: {}\".format(n, result))"
      ],
      "metadata": {
        "colab": {
          "base_uri": "https://localhost:8080/"
        },
        "id": "-0WIL4rHe9Iy",
        "outputId": "0151c310-2d7e-4372-e66e-03f28ba142c7"
      },
      "execution_count": null,
      "outputs": [
        {
          "output_type": "stream",
          "name": "stdout",
          "text": [
            "Enter the value of n: 6\n",
            "The sum of the series 1+3+5+...+6 is: 9\n"
          ]
        }
      ]
    },
    {
      "cell_type": "code",
      "source": [
        "# Increment by 2 to get even numbers\n",
        "def calculate_sum(n):\n",
        "    total = 0\n",
        "    for i in range(2, n + 1, 2):\n",
        "        total += i\n",
        "    return total\n",
        "\n",
        "n = int(input(\"Enter the value of n: \"))\n",
        "result = calculate_sum(n)\n",
        "print(\"The sum of the series 2+4+6+...+{} is: {}\".format(n, result))"
      ],
      "metadata": {
        "colab": {
          "base_uri": "https://localhost:8080/"
        },
        "id": "7bDhvB4KfJJ7",
        "outputId": "a8580db3-9a5d-4b22-e2b0-101596618f9e"
      },
      "execution_count": null,
      "outputs": [
        {
          "output_type": "stream",
          "name": "stdout",
          "text": [
            "Enter the value of n: 8\n",
            "The sum of the series 2+4+6+...+8 is: 20\n"
          ]
        }
      ]
    },
    {
      "cell_type": "code",
      "source": [
        "def calculate_sum_of_squares(n):\n",
        "    total = 0\n",
        "    for i in range(1, n + 1):\n",
        "        total += i ** 2\n",
        "    return total\n",
        "\n",
        "n = int(input(\"Enter the value of n: \"))\n",
        "result = calculate_sum_of_squares(n)\n",
        "print(\"The sum of  1^2 + 2^2 + 3^2 + ... + {}^2 is: {}\".format(n, result))"
      ],
      "metadata": {
        "colab": {
          "base_uri": "https://localhost:8080/"
        },
        "id": "aHgGCcrlfyjp",
        "outputId": "4f751b3a-cf34-46af-8096-159c9af46fe5"
      },
      "execution_count": null,
      "outputs": [
        {
          "output_type": "stream",
          "name": "stdout",
          "text": [
            "Enter the value of n: 8\n",
            "The sum of  1^2 + 2^2 + 3^2 + ... + 8^2 is: 204\n"
          ]
        }
      ]
    },
    {
      "cell_type": "code",
      "source": [
        "def calculate_sum_of_squares(n):\n",
        "    total = 0\n",
        "    for i in range(2, n + 1, 2):\n",
        "        total += i ** 2\n",
        "    return total\n",
        "\n",
        "n = int(input(\"Enter the value of n: \"))\n",
        "result = calculate_sum_of_squares(n)\n",
        "print(\"The sum of the  2^2 + 4^2 + ... + {}^2 is: {}\".format(n, result))"
      ],
      "metadata": {
        "colab": {
          "base_uri": "https://localhost:8080/"
        },
        "id": "yXJ-l2Nnf5US",
        "outputId": "7579bac0-2f9b-4c19-b3f7-34a0c9b9535a"
      },
      "execution_count": null,
      "outputs": [
        {
          "output_type": "stream",
          "name": "stdout",
          "text": [
            "Enter the value of n: 5\n",
            "The sum of the  2^2 + 4^2 + ... + 5^2 is: 20\n"
          ]
        }
      ]
    },
    {
      "cell_type": "code",
      "source": [
        "def calculate_sum_of_powers(n, r):\n",
        "    total = 0\n",
        "    for i in range(1, n + 1):\n",
        "        total += i ** r\n",
        "    return total\n",
        "\n",
        "n = int(input(\"Enter the value of n: \"))\n",
        "r = int(input(\"Enter the value of r: \"))\n",
        "\n",
        "result = calculate_sum_of_powers(n, r)\n",
        "print(f\"The sum of the series 1^{r} + 2^{r} + ... + {n}^{r} is: {result}\")"
      ],
      "metadata": {
        "colab": {
          "base_uri": "https://localhost:8080/"
        },
        "id": "Cu5l5yR6gTI2",
        "outputId": "069feb6c-e69a-4193-d434-96eb349036e8"
      },
      "execution_count": null,
      "outputs": [
        {
          "output_type": "stream",
          "name": "stdout",
          "text": [
            "Enter the value of n: 8\n",
            "Enter the value of r: 2\n",
            "The sum of the series 1^2 + 2^2 + ... + 8^2 is: 204\n"
          ]
        }
      ]
    },
    {
      "cell_type": "code",
      "source": [
        "def calculate_sum_of_powers(n, r):\n",
        "    total = 0\n",
        "    for i in range(1, n + 1, 2):\n",
        "        total += i ** r\n",
        "    return total\n",
        "\n",
        "n = int(input(\"Enter the value of n: \"))\n",
        "r = int(input(\"Enter the value of r: \"))\n",
        "\n",
        "result = calculate_sum_of_powers(n, r)\n",
        "print(f\"The sum of the 1^{r} + 3^{r} + ... + {n}^{r} is: {result}\")"
      ],
      "metadata": {
        "colab": {
          "base_uri": "https://localhost:8080/"
        },
        "id": "EdLlpcoJgZ4R",
        "outputId": "e4d69ac7-b0e6-4384-f300-858c7defecd5"
      },
      "execution_count": null,
      "outputs": [
        {
          "output_type": "stream",
          "name": "stdout",
          "text": [
            "Enter the value of n: 7\n",
            "Enter the value of r: 7\n",
            "The sum of the 1^7 + 3^7 + ... + 7^7 is: 903856\n"
          ]
        }
      ]
    },
    {
      "cell_type": "code",
      "source": [
        "def factorial(num):\n",
        "    if num == 0:\n",
        "        return 1\n",
        "    else:\n",
        "        fact = 1\n",
        "        for i in range(1, num + 1):\n",
        "            fact *= i\n",
        "        return fact\n",
        "\n",
        "def calculate_sum_of_factorials(n):\n",
        "    total = 0\n",
        "    for i in range(1, n + 1):\n",
        "        total += factorial(i)\n",
        "    return total\n",
        "\n",
        "n = int(input(\"Enter the value of n: \"))\n",
        "result = calculate_sum_of_factorials(n)\n",
        "print(\"The sum of the  1! + 2! + 3! + ... + {}! is: {}\".format(n, result))"
      ],
      "metadata": {
        "colab": {
          "base_uri": "https://localhost:8080/"
        },
        "id": "3lKm0gAfgnuR",
        "outputId": "6e243dc3-97fd-485f-90fc-7a1e29bda294"
      },
      "execution_count": null,
      "outputs": [
        {
          "output_type": "stream",
          "name": "stdout",
          "text": [
            "Enter the value of n: 3\n",
            "The sum of the  1! + 2! + 3! + ... + 3! is: 9\n"
          ]
        }
      ]
    },
    {
      "cell_type": "code",
      "source": [
        "def factorial(num):\n",
        "    if num == 0:\n",
        "        return 1\n",
        "    else:\n",
        "        fact = 1\n",
        "        for i in range(1, num + 1):\n",
        "            fact *= i\n",
        "        return fact\n",
        "\n",
        "def calculate_sum_of_factorials(n):\n",
        "    total = 0\n",
        "    for i in range(1, n + 1, 2):\n",
        "        total += factorial(i)\n",
        "    return total\n",
        "\n",
        "n = int(input(\"Enter the value of n: \"))\n",
        "result = calculate_sum_of_factorials(n)\n",
        "print(\"The sum of the 1! + 3! + 5! + ... + {}! is: {}\".format(n, result))"
      ],
      "metadata": {
        "colab": {
          "base_uri": "https://localhost:8080/"
        },
        "id": "EdY6IOX2g1SO",
        "outputId": "2dc6a675-7c97-4f7b-9ca2-7c51b7a2e234"
      },
      "execution_count": null,
      "outputs": [
        {
          "output_type": "stream",
          "name": "stdout",
          "text": [
            "Enter the value of n: 6\n",
            "The sum of the 1! + 3! + 5! + ... + 6! is: 127\n"
          ]
        }
      ]
    },
    {
      "cell_type": "code",
      "source": [
        "def factorial(num):\n",
        "    if num == 0:\n",
        "        return 1\n",
        "    else:\n",
        "        fact = 1\n",
        "        for i in range(1, num + 1):\n",
        "            fact *= i\n",
        "        return fact\n",
        "\n",
        "def calculate_sum_of_factorials(n):\n",
        "    total = 0\n",
        "    for i in range(2, n + 1, 2):\n",
        "        total += factorial(i)\n",
        "    return total\n",
        "\n",
        "n = int(input(\"Enter the value of n: \"))\n",
        "result = calculate_sum_of_factorials(n)\n",
        "print(\"The sum of the  2! + 4! + 6! + ... + {}! is: {}\".format(n, result))"
      ],
      "metadata": {
        "colab": {
          "base_uri": "https://localhost:8080/"
        },
        "id": "EKv4jMyLhWgO",
        "outputId": "9a01bde8-19d2-40e1-ae15-91b18ba87c6c"
      },
      "execution_count": null,
      "outputs": [
        {
          "output_type": "stream",
          "name": "stdout",
          "text": [
            "Enter the value of n: 9\n",
            "The sum of the  2! + 4! + 6! + ... + 9! is: 41066\n"
          ]
        }
      ]
    },
    {
      "cell_type": "code",
      "source": [
        "def factorial(num):\n",
        "    if num == 0:\n",
        "        return 1\n",
        "    else:\n",
        "        fact = 1\n",
        "        for i in range(1, num + 1):\n",
        "            fact *= i\n",
        "        return fact\n",
        "\n",
        "def calculate_series(n, x):\n",
        "    total = 1  # Initialize total with the first term\n",
        "    for i in range(1, n + 1):\n",
        "        term = (n - i + 1) * x**i / factorial(i)\n",
        "        total += term\n",
        "    return total\n",
        "\n",
        "n = int(input(\"Enter the value of n: \"))\n",
        "x = float(input(\"Enter the value of x: \"))\n",
        "\n",
        "result = calculate_series(n, x)\n",
        "print(f\"The result of the series is: {result}\")"
      ],
      "metadata": {
        "colab": {
          "base_uri": "https://localhost:8080/"
        },
        "id": "pgJSdF5Dhf_v",
        "outputId": "859fb573-435f-4cd1-90cd-f67ed80f6cde"
      },
      "execution_count": null,
      "outputs": [
        {
          "output_type": "stream",
          "name": "stdout",
          "text": [
            "Enter the value of n: 5\n",
            "Enter the value of x: 3\n",
            "The result of the series is: 56.275\n"
          ]
        }
      ]
    },
    {
      "cell_type": "code",
      "source": [
        "def factorial(num):\n",
        "    if num == 0:\n",
        "        return 1\n",
        "    else:\n",
        "        fact = 1\n",
        "        for i in range(1, num + 1):\n",
        "            fact *= i\n",
        "        return fact\n",
        "\n",
        "def calculate_series(n):\n",
        "    total = 1  # Initialize total with the first term\n",
        "    sign = -1  # Initialize sign as negative for the second term\n",
        "    for i in range(1, n + 1):\n",
        "        term = sign * 1 / factorial(i)\n",
        "        total += term\n",
        "        sign *= -1  # Change sign for the next term\n",
        "    return total\n",
        "\n",
        "n = int(input(\"Enter the value of n: \"))\n",
        "\n",
        "result = calculate_series(n)\n",
        "print(\"The result of the series is:\", result)"
      ],
      "metadata": {
        "colab": {
          "base_uri": "https://localhost:8080/"
        },
        "id": "FSJ_cbbKhnxi",
        "outputId": "53606489-428f-4fd2-8729-09d1d19f3abd"
      },
      "execution_count": null,
      "outputs": [
        {
          "output_type": "stream",
          "name": "stdout",
          "text": [
            "Enter the value of n: 7\n",
            "The result of the series is: 0.3678571428571429\n"
          ]
        }
      ]
    },
    {
      "cell_type": "code",
      "source": [
        "def factorial(num):\n",
        "    if num == 0:\n",
        "        return 1\n",
        "    else:\n",
        "        fact = 1\n",
        "        for i in range(1, num + 1):\n",
        "            fact *= i\n",
        "        return fact\n",
        "\n",
        "def calculate_series(n, x):\n",
        "    total = 0  # Initialize total with 0\n",
        "    for i in range(n + 1):\n",
        "        term = x**i / factorial(i)\n",
        "        total += term\n",
        "    return total\n",
        "\n",
        "n = int(input(\"Enter the value of n: \"))\n",
        "x = float(input(\"Enter the value of x: \"))\n",
        "\n",
        "result = calculate_series(n, x)\n",
        "print(\"The result of the series is:\", result)"
      ],
      "metadata": {
        "colab": {
          "base_uri": "https://localhost:8080/"
        },
        "id": "Y5jq4tT6hr4i",
        "outputId": "806931ab-b8dd-4db1-ad66-e2ac4fd97d6c"
      },
      "execution_count": null,
      "outputs": [
        {
          "output_type": "stream",
          "name": "stdout",
          "text": [
            "Enter the value of n: 6\n",
            "Enter the value of x: 8\n",
            "The result of the series is: 934.1555555555556\n"
          ]
        }
      ]
    },
    {
      "cell_type": "code",
      "source": [
        "def factorial(num):\n",
        "    if num == 0:\n",
        "        return 1\n",
        "    else:\n",
        "        fact = 1\n",
        "        for i in range(1, num + 1):\n",
        "            fact *= i\n",
        "        return fact\n",
        "\n",
        "def calculate_series(n, x):\n",
        "    total = 1  # Initialize total with the first term\n",
        "    sign = -1  # Initialize sign as negative for the second term\n",
        "    for i in range(1, n + 1):\n",
        "        term = sign * x**i / factorial(i)\n",
        "        total += term\n",
        "        sign *= -1  # Change sign for the next term\n",
        "    return total\n",
        "\n",
        "n = int(input(\"Enter the value of n: \"))\n",
        "x = float(input(\"Enter the value of x: \"))\n",
        "\n",
        "result = calculate_series(n, x)\n",
        "print(\"The result of the series is:\", result)"
      ],
      "metadata": {
        "colab": {
          "base_uri": "https://localhost:8080/"
        },
        "id": "oDHmvTNkh2Dr",
        "outputId": "22a6c6a3-14e0-435c-8b5d-80ff218f7d33"
      },
      "execution_count": null,
      "outputs": [
        {
          "output_type": "stream",
          "name": "stdout",
          "text": [
            "Enter the value of n: 4\n",
            "Enter the value of x: 8\n",
            "The result of the series is: 110.33333333333333\n"
          ]
        }
      ]
    },
    {
      "cell_type": "code",
      "source": [
        "import math\n",
        "\n",
        "def series_sum(n):\n",
        "    result = 1\n",
        "    factorial = 1\n",
        "    for i in range(1, n + 1):\n",
        "        factorial *= i\n",
        "        term = (-1)**i / factorial\n",
        "        result += term\n",
        "        return result\n",
        "n = int(input(\"Enter the value of n: \"))\n",
        "print(\"Sum of the series:\", series_sum(n))"
      ],
      "metadata": {
        "colab": {
          "base_uri": "https://localhost:8080/"
        },
        "id": "LOz4QynI3J9W",
        "outputId": "1e01c270-69c0-4db9-fa09-40c10a8afaca"
      },
      "execution_count": null,
      "outputs": [
        {
          "output_type": "stream",
          "name": "stdout",
          "text": [
            "Enter the value of n: 6\n",
            "Sum of the series: 0.0\n"
          ]
        }
      ]
    },
    {
      "cell_type": "code",
      "source": [
        "def factorial(n):\n",
        "    if n == 0:\n",
        "        return 1\n",
        "    else:\n",
        "        return n * factorial(n - 1)\n",
        "\n",
        "def exponent_series(x, n):\n",
        "    result = 1\n",
        "    for i in range(1, n + 1):\n",
        "        result += (x ** i) / factorial(i)\n",
        "    return result\n",
        "\n",
        "def main():\n",
        "    x = float(input(\"Enter the value of x: \"))\n",
        "    n = int(input(\"Enter the number of terms in the series: \"))\n",
        "    print(\"Series for e^{}:\".format(x))\n",
        "    for i in range(1, n + 1):\n",
        "        if i == 1:\n",
        "            print(\"1\", end=\"\")\n",
        "        else:\n",
        "            print(\" + {}^{} / {}!\".format(x, i, i), end=\"\")\n",
        "    print(\"\\nResult:\", exponent_series(x, n))\n",
        "\n",
        "if __name__ == \"__main__\":\n",
        "    main()"
      ],
      "metadata": {
        "colab": {
          "base_uri": "https://localhost:8080/"
        },
        "id": "9_b5wfWz31j-",
        "outputId": "f115ff23-be99-4fdd-c5be-f6615e183c4b"
      },
      "execution_count": null,
      "outputs": [
        {
          "output_type": "stream",
          "name": "stdout",
          "text": [
            "Enter the value of x: 3\n",
            "Enter the number of terms in the series: 6\n",
            "Series for e^3.0:\n",
            "1 + 3.0^2 / 2! + 3.0^3 / 3! + 3.0^4 / 4! + 3.0^5 / 5! + 3.0^6 / 6!\n",
            "Result: 19.412499999999998\n"
          ]
        }
      ]
    },
    {
      "cell_type": "code",
      "source": [
        "def factorial(n):\n",
        "    if n == 0:\n",
        "        return 1\n",
        "    else:\n",
        "        return n * factorial(n - 1)\n",
        "\n",
        "def sin_series(x, n):\n",
        "    result = x\n",
        "    sign = -1\n",
        "    for i in range(1, n + 1):\n",
        "        if i % 2 != 0:\n",
        "            result += (sign * (x ** (2 * i + 1))) / factorial(2 * i + 1)\n",
        "            sign *= -1\n",
        "    return result\n",
        "\n",
        "def main():\n",
        "    x = float(input(\"Enter the value of x in radians: \"))\n",
        "    n = int(input(\"Enter the number of terms in the series: \"))\n",
        "    print(\"Series for sin({}):\".format(x))\n",
        "    for i in range(1, n + 1):\n",
        "        if i == 1:\n",
        "            print(\"{}\".format(x), end=\"\")\n",
        "        else:\n",
        "          print(\"+({})^{} / {}!\".format(x, 2 * i + 1, 2 * i + 1), end=\"\")\n",
        "    print(\"\\nResult:\", sin_series(x, n))\n",
        "\n",
        "if __name__ == \"__main__\":\n",
        "    main()"
      ],
      "metadata": {
        "colab": {
          "base_uri": "https://localhost:8080/"
        },
        "id": "kU1pcEsH4h3r",
        "outputId": "96fd80a2-70c4-4eda-bcdb-76cf6db72958"
      },
      "execution_count": null,
      "outputs": [
        {
          "output_type": "stream",
          "name": "stdout",
          "text": [
            "Enter the value of x in radians: 3\n",
            "Enter the number of terms in the series: 6\n",
            "Series for sin(3.0):\n",
            "3.0+(3.0)^5 / 5!+(3.0)^7 / 7!+(3.0)^9 / 9!+(3.0)^11 / 11!+(3.0)^13 / 13!\n",
            "Result: -1.0705093344155845\n"
          ]
        }
      ]
    },
    {
      "cell_type": "code",
      "source": [
        "def factorial(n):\n",
        "    if n == 0:\n",
        "        return 1\n",
        "    else:\n",
        "        return n * factorial(n - 1)\n",
        "\n",
        "def series_sum(n):\n",
        "    result = 1\n",
        "    for i in range(1, n + 1):\n",
        "        result += 1 / factorial(i)\n",
        "    return result\n",
        "\n",
        "def main():\n",
        "    n = int(input(\"Enter the number of terms in the series: \"))\n",
        "    print(\"Series for S:\")\n",
        "    for i in range(1, n + 1):\n",
        "        if i == 1:\n",
        "            print(\"1\", end=\"\")\n",
        "        else:\n",
        "            print(\" + 1/{}!\".format(i), end=\"\")\n",
        "    print(\"\\nResult:\", series_sum(n))\n",
        "\n",
        "if __name__ == \"__main__\":\n",
        "    main()"
      ],
      "metadata": {
        "colab": {
          "base_uri": "https://localhost:8080/"
        },
        "id": "KEYPcO9x5WTA",
        "outputId": "c0a407aa-5932-4b55-f46c-e1c8055007c7"
      },
      "execution_count": null,
      "outputs": [
        {
          "output_type": "stream",
          "name": "stdout",
          "text": [
            "Enter the number of terms in the series: 5\n",
            "Series for S:\n",
            "1 + 1/2! + 1/3! + 1/4! + 1/5!\n",
            "Result: 2.7166666666666663\n"
          ]
        }
      ]
    }
  ]
}